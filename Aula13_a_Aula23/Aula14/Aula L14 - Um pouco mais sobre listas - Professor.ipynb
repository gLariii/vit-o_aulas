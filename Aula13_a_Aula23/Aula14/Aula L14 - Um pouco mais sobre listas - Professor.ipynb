{
  "nbformat": 4,
  "nbformat_minor": 0,
  "metadata": {
    "colab": {
      "provenance": []
    },
    "kernelspec": {
      "name": "python3",
      "display_name": "Python 3"
    },
    "language_info": {
      "name": "python"
    }
  },
  "cells": [
    {
      "cell_type": "markdown",
      "source": [
        "#**TTI103 - Lógica de Programação**\n",
        "\n",
        "#**Aula L14 - Um pouco mais sobre listas**"
      ],
      "metadata": {
        "id": "nZUyxKuZlnTn"
      }
    },
    {
      "cell_type": "markdown",
      "source": [
        "#**Um exemplo - Cálculo de média**\n",
        "\n",
        "Uma professora de matemática elaborou uma técnica de avaliação diferente: na próxima prova, a nota de todos os alunos seria a mesma, equivalente à média de todas as notas.\n",
        "\n",
        "Todo esse processo seria feito por um sistema automático em Python. As notas dos alunos da sala avaliada foram arquivadas em uma estrutura de lista:"
      ],
      "metadata": {
        "id": "IgipK11vlx6d"
      }
    },
    {
      "cell_type": "code",
      "execution_count": null,
      "metadata": {
        "id": "i9xdOXAwlmo6"
      },
      "outputs": [],
      "source": [
        "notas = [0, 0, 9.0, 8.0, 5.0, 10.0, 7.0, 7.5,\n",
        "         4.0, 10.0, 7.0, 7.0, 8.0, 8.0, 7.5]"
      ]
    },
    {
      "cell_type": "markdown",
      "source": [
        "Bem, a média aritmética de uma lista de valores é a soma dos valores dividida pela quantidade deles. Precisamos, então, calcular duas coisas: a soma das notas e a quantidade de notas."
      ],
      "metadata": {
        "id": "eSdKw7hAveFL"
      }
    },
    {
      "cell_type": "markdown",
      "source": [
        "## Somando todos os elementos de uma lista\n",
        "\n",
        "Para somar todos os elementos da lista, vamos começar inicializando uma variável que armazenará a soma das notas com o valor `0`, indicando que a soma ainda não foi feita:"
      ],
      "metadata": {
        "id": "KJ-V4hxUv7wN"
      }
    },
    {
      "cell_type": "code",
      "source": [
        "soma_das_notas = 0"
      ],
      "metadata": {
        "id": "A5BFhJLSwM-K"
      },
      "execution_count": null,
      "outputs": []
    },
    {
      "cell_type": "markdown",
      "source": [
        "Assim, podemos iterar sobre as notas: para cada nota, soma-se seu valor à variável `soma_das_notas`, dessa forma:"
      ],
      "metadata": {
        "id": "2Ff_vySXwO3L"
      }
    },
    {
      "cell_type": "code",
      "source": [
        "for nota in notas:\n",
        "    soma_das_notas += nota\n",
        "print(soma_das_notas)"
      ],
      "metadata": {
        "colab": {
          "base_uri": "https://localhost:8080/"
        },
        "id": "-OS5a0fG_lVP",
        "outputId": "571ed95a-481f-4f5c-a666-95726f3aaf46"
      },
      "execution_count": null,
      "outputs": [
        {
          "output_type": "stream",
          "name": "stdout",
          "text": [
            "98.0\n"
          ]
        }
      ]
    },
    {
      "cell_type": "markdown",
      "source": [
        "Funciona perfeitamente! Mas será que não há uma maneira mais simples de somar todos os elementos de uma lista?"
      ],
      "metadata": {
        "id": "8uH6yd-5_qxW"
      }
    },
    {
      "cell_type": "markdown",
      "source": [
        "## Somando os elementos de uma lista com a função `sum()`\n",
        "\n",
        "Somar todos os elementos de algum conjunto é uma tarefa bastante comum em programação. Sendo assim, o Python também tem uma função nativa dedicada ao cálculo da soma de todos os elementos de uma lista - a função `sum()`.\n",
        "\n",
        "Vamos usar essa nova abordagem:"
      ],
      "metadata": {
        "id": "Y5fOZ4A3_v9Z"
      }
    },
    {
      "cell_type": "code",
      "source": [
        "soma_das_notas = sum(notas)\n",
        "print(soma_das_notas)"
      ],
      "metadata": {
        "colab": {
          "base_uri": "https://localhost:8080/"
        },
        "id": "uwwaOU5s__JS",
        "outputId": "c4ac80d8-d461-4700-b252-7cd9e2eed9cc"
      },
      "execution_count": null,
      "outputs": [
        {
          "output_type": "stream",
          "name": "stdout",
          "text": [
            "98.0\n"
          ]
        }
      ]
    },
    {
      "cell_type": "markdown",
      "source": [
        "Não só é mais simples usar a função `sum()` do que implementar um algoritmo para a soma, como sua performance é muito melhor - um laço `for` é executado como *bytecode* Python interpretado, enquanto a função `sum()` é escrita puramente na linguagem C.\n",
        "\n",
        "[*Bytecode* é um formato de código intermediário entre o código fonte, o texto que o programador consegue manipular, e o código de máquina, que o computador consegue executar.]\n",
        "\n",
        "Agora que já sabemos a soma das notas, precisamos descobrir a quantidade delas."
      ],
      "metadata": {
        "id": "sr3f02QOAHdG"
      }
    },
    {
      "cell_type": "markdown",
      "source": [
        "## Descobrindo o tamanho de uma lista com a função `len()`\n",
        "\n",
        "A quantidade de notas é o tamanho da lista. Podemos, é claro, contar nós mesmos e armazenarmos essa contagem em uma variável:"
      ],
      "metadata": {
        "id": "E4vPmHeNA1FP"
      }
    },
    {
      "cell_type": "code",
      "source": [
        "qtd_de_notas = 15"
      ],
      "metadata": {
        "id": "slJsKZ0CA-wO"
      },
      "execution_count": null,
      "outputs": []
    },
    {
      "cell_type": "markdown",
      "source": [
        "Tudo bem, mas essa abordagem seria problemática caso a lista mudasse de tamanho, ou até mesmo se a lista fosse maior (imagine contar número a número em uma lista de mais de 100 elementos!)\n",
        "\n",
        "Geralmente, nas linguagens de programação, há uma maneira nativa mais simples para se calcular o tamanho de uma lista. No Python isso não é diferente!\n",
        "\n",
        "A função *built-in* `len()` retorna o comprimento de um objeto cuja classe implemente o [método] `len()`, como por exemplo uma *string*, ou, no nosso caso, uma lista. Vamos testá-la com nossas notas:"
      ],
      "metadata": {
        "id": "O0aCNFrUA_2P"
      }
    },
    {
      "cell_type": "code",
      "source": [
        "qtd_de_notas = len(notas)\n",
        "print(qtd_de_notas)"
      ],
      "metadata": {
        "colab": {
          "base_uri": "https://localhost:8080/"
        },
        "id": "JpmiW06UBsCX",
        "outputId": "4f5700e8-1911-4629-acf6-e4c96afbb700"
      },
      "execution_count": null,
      "outputs": [
        {
          "output_type": "stream",
          "name": "stdout",
          "text": [
            "15\n"
          ]
        }
      ]
    },
    {
      "cell_type": "markdown",
      "source": [
        "## Calculando a média aritmética\n",
        "\n",
        "Agora que temos os dois valores que precisávamos, vamos calcular a média utilizando a fórmula `soma_dos_numeros / quantidade_de_numeros`:"
      ],
      "metadata": {
        "id": "yKVYfrfcBtVm"
      }
    },
    {
      "cell_type": "code",
      "source": [
        "media_das_notas = soma_das_notas / qtd_de_notas\n",
        "print(media_das_notas)"
      ],
      "metadata": {
        "colab": {
          "base_uri": "https://localhost:8080/"
        },
        "id": "l3OefVNxB43n",
        "outputId": "8484b2d3-8a21-4fe4-911a-97b30df033db"
      },
      "execution_count": null,
      "outputs": [
        {
          "output_type": "stream",
          "name": "stdout",
          "text": [
            "6.533333333333333\n"
          ]
        }
      ]
    },
    {
      "cell_type": "markdown",
      "source": [
        "O resultado foi divulgado aos alunos, que responderam com reclamações - a nota foi mais baixa do que o esperado.\n",
        "\n",
        "Depois de uma análise das notas, descobrimos que a média estava sendo calculada com a nota `0` de dois alunos que faltaram no dia da prova, o que não era justo!\n",
        "\n",
        "Precisamos, então, remover essas notas `0` de nossa lista e recalcular a média."
      ],
      "metadata": {
        "id": "k3wkTP7qB_hY"
      }
    },
    {
      "cell_type": "markdown",
      "source": [
        "## Removendo um elemento de uma lista com o método `remove()`\n",
        "\n",
        "Como podemos remover um elemento da lista de notas? O Python nos traz o método `remove()`, que recebe como parâmetro o valor que queremos remover de nossa lista. Vamos testar:"
      ],
      "metadata": {
        "id": "Npwk62AhCH5Q"
      }
    },
    {
      "cell_type": "code",
      "source": [
        "notas = [0, 0, 9.0, 8.0, 5.0, 10.0, 7.0, 7.5,\n",
        "         4.0, 10.0, 7.0, 7.0, 8.0, 8.0, 7.5]\n",
        "notas.remove(0)\n",
        "print(notas)"
      ],
      "metadata": {
        "colab": {
          "base_uri": "https://localhost:8080/"
        },
        "id": "d9fGAO1UCbmx",
        "outputId": "f354955c-14ef-42ec-b6ae-bcdb509cb530"
      },
      "execution_count": null,
      "outputs": [
        {
          "output_type": "stream",
          "name": "stdout",
          "text": [
            "[0, 9.0, 8.0, 5.0, 10.0, 7.0, 7.5, 4.0, 10.0, 7.0, 7.0, 8.0, 8.0, 7.5]\n"
          ]
        }
      ]
    },
    {
      "cell_type": "markdown",
      "source": [
        "Ok! Conseguimos remover um dos `0`, mas o outro ainda está lá! Por que será? Acontece que o método `remove()` remove apenas o *primeiro elemento* encontrado cujo valor é igual ao parâmetro passado, não todos os elementos com esse valor.\n",
        "\n",
        "Precisamos, então, chamar o método `remove()` duas vezes? Bem, em nosso caso funcionaria... Mas e se, em vez de duas, tivéssemos dez notas `0`? Será que realmente precisaríamos repetir uma mesma linha de código dez vezes? Isso não parece o ideal.\n",
        "\n",
        "Conhecendo o Python e lógica de programação, uma abordagem intuitiva para esse problema seria iterar sobre a lista com um laço `for` e remover o valor caso ele seja igual a `0`, para não precisarmos nos preocupar com a quantidade de notas `0`. Vamos tentar:"
      ],
      "metadata": {
        "id": "8yaKa347ClBA"
      }
    },
    {
      "cell_type": "code",
      "source": [
        "notas = [0, 0, 9.0, 8.0, 5.0, 10.0, 7.0, 7.5,\n",
        "         4.0, 10.0, 7.0, 7.0, 8.0, 8.0, 7.5]\n",
        "for nota in notas:\n",
        "  if nota == 0:\n",
        "    notas.remove(nota)\n",
        "print(notas)"
      ],
      "metadata": {
        "colab": {
          "base_uri": "https://localhost:8080/"
        },
        "id": "HEdLzMN7CkoA",
        "outputId": "9f44cd60-f968-4c01-ebc5-93956d90ee12"
      },
      "execution_count": null,
      "outputs": [
        {
          "output_type": "stream",
          "name": "stdout",
          "text": [
            "[0, 9.0, 8.0, 5.0, 10.0, 7.0, 7.5, 4.0, 10.0, 7.0, 7.0, 8.0, 8.0, 7.5]\n"
          ]
        }
      ]
    },
    {
      "cell_type": "markdown",
      "source": [
        "De novo sobrou um `0`! Por quê, dessa vez? Nesse caso, o que houve foi uma confusão entre o laço `for` e o método `remove()`.\n",
        "\n",
        "O laço `for` itera sobre os elementos de uma lista através do índice - ou seja, começa com o elemento na posição `0`, passa para o elemento na posição `1` e assim por diante, até que o índice (a posição) atinja o comprimento da lista.\n",
        "\n",
        "O método `remove()`, por sua vez, ao apagar um elemento, realoca os outros dentro da lista para que não haja um espaço vazio no lugar onde havia o elemento removido. Quando removemos um elemento da lista, a lista realmente diminui de tamanho!\n",
        "\n",
        "Sabendo disso, vamos fazer uma simulação passo a passo para tentar entender o que aconteceu:\n",
        "\n",
        "*PRIMEIRA ITERAÇÃO:*\n",
        "\n",
        "`índice = 0`\n",
        "\n",
        "`lista = [0, 0, 9.0, 8.0, 5.0, 10.0, 7.0, 7.5, 4.0, 10.0, 7.0, 7.0, 8.0, 8.0, 7.5]`\n",
        "\n",
        "*SEGUNDA ITERAÇÃO:*\n",
        "\n",
        "`índice = 1`\n",
        "\n",
        "`lista = [0, 9.0, 8.0, 5.0, 10.0, 7.0, 7.5, 4.0, 10.0, 7.0, 7.0, 8.0, 8.0, 7.5]`\n",
        "\n",
        "Note que o segundo `0` foi ignorado pelo laço `for`! Quando o laço chegou no índice `1`, posição em que estava alocado o `0` inicialmente, este já havia sido realocado para o índice `0`, resultando nesse problema.\n",
        "\n",
        "**IMPORTANTE:** Nunca altere uma lista enquanto se itera sobre ela!\n",
        "\n",
        "Precisamos de uma forma melhor de remover todas as ocorrências de um mesmo valor em uma lista."
      ],
      "metadata": {
        "id": "xyHGr-xnDa5p"
      }
    },
    {
      "cell_type": "markdown",
      "source": [
        "## Filtrando uma lista utilizando *list comprehensions*\n",
        "\n",
        "Já usamos uma técnica no Python chamada de *compreensão de lista* (ou, em inglês, *list comprehensions*). Como podemos usá-la para resolver nosso problema? Queremos uma nova lista que contenha todos os valores da lista `notas` que sejam maiores que zero."
      ],
      "metadata": {
        "id": "wAkAUP3PFWHl"
      }
    },
    {
      "cell_type": "code",
      "source": [
        "notas = [0, 0, 9.0, 8.0, 5.0, 10.0, 7.0, 7.5,\n",
        "         4.0, 10.0, 7.0, 7.0, 8.0, 8.0, 7.5]\n",
        "notas_validas = [nota for nota in notas if nota > 0]\n",
        "print(notas_validas)"
      ],
      "metadata": {
        "colab": {
          "base_uri": "https://localhost:8080/"
        },
        "id": "lreM5UpNF38e",
        "outputId": "9dac91aa-76af-4dbf-9b40-f14b5c2819e4"
      },
      "execution_count": null,
      "outputs": [
        {
          "output_type": "stream",
          "name": "stdout",
          "text": [
            "[9.0, 8.0, 5.0, 10.0, 7.0, 7.5, 4.0, 10.0, 7.0, 7.0, 8.0, 8.0, 7.5]\n"
          ]
        }
      ]
    },
    {
      "cell_type": "markdown",
      "source": [
        "Enfim, basta recalcularmos a média com essa nova lista de notas:"
      ],
      "metadata": {
        "id": "aVy0D_swGAFx"
      }
    },
    {
      "cell_type": "code",
      "source": [
        "media_valida = sum(notas_validas) / len(notas_validas)\n",
        "print(media_valida)"
      ],
      "metadata": {
        "colab": {
          "base_uri": "https://localhost:8080/"
        },
        "id": "_emTcryjGBCo",
        "outputId": "acf74484-7006-42c9-9e01-2c8e5a636f92"
      },
      "execution_count": null,
      "outputs": [
        {
          "output_type": "stream",
          "name": "stdout",
          "text": [
            "7.538461538461538\n"
          ]
        }
      ]
    },
    {
      "cell_type": "markdown",
      "source": [
        "Após a média ser recalculada e arredondada para `7.5`, a professora decidiu conferir se seu método de avaliação tinha sido efetivo - isto é, se a nota da sala realmente representava como os alunos tinham se saído na prova.\n",
        "\n",
        "Para isso, ela precisou calcular quantos alunos tiraram a nota na média, com uma margem de diferença de `0.5` (ou seja, quantos alunos tiraram uma nota entre `7` e `8`)."
      ],
      "metadata": {
        "id": "U8a-K2STGHbf"
      }
    },
    {
      "cell_type": "markdown",
      "source": [
        "## Contando elementos em uma lista com o método `count()`\n",
        "\n",
        "Para contar quantas vezes um elemento aparece em uma lista, podemos usar o método `count()` dessa forma:"
      ],
      "metadata": {
        "id": "vZEXSB2kSA5s"
      }
    },
    {
      "cell_type": "code",
      "source": [
        "qtd_de_setes = notas.count(7.0)\n",
        "print(qtd_de_setes)"
      ],
      "metadata": {
        "colab": {
          "base_uri": "https://localhost:8080/"
        },
        "id": "6yq6S_Q3SK10",
        "outputId": "7f75ff21-4d0b-426c-c835-2e1c6d8a2fc3"
      },
      "execution_count": null,
      "outputs": [
        {
          "output_type": "stream",
          "name": "stdout",
          "text": [
            "3\n"
          ]
        }
      ]
    },
    {
      "cell_type": "markdown",
      "source": [
        "Para calcularmos quantos alunos tiraram a nota na média, com uma margem de diferença de `0.5`, usamos o método com três valores: `7`, `7.5` e `8`:"
      ],
      "metadata": {
        "id": "qwNCYcmESO6E"
      }
    },
    {
      "cell_type": "code",
      "source": [
        "qtd_alunos_na_media = notas.count(7.0) + notas.count(7.5) + notas.count(8.0)\n",
        "print(qtd_alunos_na_media)"
      ],
      "metadata": {
        "colab": {
          "base_uri": "https://localhost:8080/"
        },
        "id": "ecRF2B0USsQl",
        "outputId": "b56de44c-6f1c-4123-c8d5-8595f0edec1f"
      },
      "execution_count": null,
      "outputs": [
        {
          "output_type": "stream",
          "name": "stdout",
          "text": [
            "8\n"
          ]
        }
      ]
    },
    {
      "cell_type": "markdown",
      "source": [
        "Certo! No nosso caso, a solução com o `count()` funciona bem, porque sabemos que são apenas esses três valores necessários (`7.0`, `7.5` e `8.0`).\n",
        "\n",
        "Mas e se na lista houvesse, por exemplo, valores como `7.1`, `7.2`... e assim em diante até `8.0`. Teríamos que fazer um `count()` para cada um desses valores? Parece complicado, não é?\n",
        "\n",
        "Uma outra abordagem que evitaria essa complicação é a utilização de um laço `for` com armazenamento do valor da contagem em uma variável, dessa forma:"
      ],
      "metadata": {
        "id": "ICOhENdHSy--"
      }
    },
    {
      "cell_type": "code",
      "source": [
        "notas = [0, 0, 9.0, 8.0, 5.0, 10.0, 7.0, 7.5,\n",
        "         4.0, 10.0, 7.0, 7.0, 8.0, 8.0, 7.5]\n",
        "qtd_alunos_na_media = 0\n",
        "for nota in notas:\n",
        "  if 7.0 <= nota <= 8.0:\n",
        "    qtd_alunos_na_media += 1\n",
        "print(qtd_alunos_na_media)"
      ],
      "metadata": {
        "colab": {
          "base_uri": "https://localhost:8080/"
        },
        "id": "MNza_rsOTYr9",
        "outputId": "77329526-89df-4676-db2b-482dfb713aae"
      },
      "execution_count": null,
      "outputs": [
        {
          "output_type": "stream",
          "name": "stdout",
          "text": [
            "8\n"
          ]
        }
      ]
    },
    {
      "cell_type": "markdown",
      "source": [
        "Aliando o que aprendemos do método `sum()` e de compreensão de lista, e sabendo que no Python a classe `bool`, que representa os tipos booleanos, herda da classe `int` (`True` é igual a `1` e `False` é igual a `0`), podemos até fazer isso de uma forma bem mais sucinta:"
      ],
      "metadata": {
        "id": "xMmKRw6HToC_"
      }
    },
    {
      "cell_type": "code",
      "source": [
        "notas = [0, 0, 9.0, 8.0, 5.0, 10.0, 7.0, 7.5,\n",
        "         4.0, 10.0, 7.0, 7.0, 8.0, 8.0, 7.5]\n",
        "qtd_alunos_na_media = sum([7.0 <= nota <= 8.0 for nota in notas])\n",
        "print(qtd_alunos_na_media)"
      ],
      "metadata": {
        "colab": {
          "base_uri": "https://localhost:8080/"
        },
        "id": "lWRi_XPYT6V8",
        "outputId": "45dec36d-c5e7-446d-abb8-e5da0f23a091"
      },
      "execution_count": null,
      "outputs": [
        {
          "output_type": "stream",
          "name": "stdout",
          "text": [
            "8\n"
          ]
        }
      ]
    },
    {
      "cell_type": "markdown",
      "source": [
        "Para finalizar a análise, basta calcular a porcentagem de alunos que estão à uma distância de `0.5` ponto da média:"
      ],
      "metadata": {
        "id": "mUExYDePUETk"
      }
    },
    {
      "cell_type": "code",
      "source": [
        "porcentagem = qtd_alunos_na_media/len(notas_validas)\n",
        "print(porcentagem*100)"
      ],
      "metadata": {
        "colab": {
          "base_uri": "https://localhost:8080/"
        },
        "id": "hr37G8FaUD5m",
        "outputId": "52510fe9-9f95-4fc8-9b4a-95832c62c1bd"
      },
      "execution_count": null,
      "outputs": [
        {
          "output_type": "stream",
          "name": "stdout",
          "text": [
            "61.53846153846154\n"
          ]
        }
      ]
    },
    {
      "cell_type": "markdown",
      "source": [
        "##**Exercício 01**\n",
        "\n",
        "Inicialize uma lista com 20 números inteiros entre 0 e 200 e a imprima. Armazene os números pares em uma lista `pares` e os números ímpares em uma lista `impares`. Organize os valores das listas em ordem crescente e as imprima."
      ],
      "metadata": {
        "id": "qULeFgl_UdD-"
      }
    },
    {
      "cell_type": "code",
      "source": [
        "# Exercício 01\n",
        "from random import sample\n",
        "\n",
        "# Sorteio dos 20 números inteiros entre 0 e 200\n",
        "numeros = list(range(0, 201))\n",
        "sorteio = sample(population=numeros, k=20)\n",
        "print(f'Lista sorteada:\\n{sorteio}')\n",
        "\n",
        "# Criação das listas pares e impares\n",
        "pares = sorted([numero for numero in sorteio if numero % 2 == 0])\n",
        "impares = sorted([numero for numero in sorteio if numero % 2 == 1])\n",
        "\n",
        "# Impressão das listas\n",
        "print(f'\\nLista com números pares:\\n{pares}')\n",
        "print(f'\\nLista com números ímpares:\\n{impares}')"
      ],
      "metadata": {
        "colab": {
          "base_uri": "https://localhost:8080/"
        },
        "id": "IAWRGYgpVPpO",
        "outputId": "ead19e06-8ada-4f05-d06d-7849b9e48d64"
      },
      "execution_count": null,
      "outputs": [
        {
          "output_type": "stream",
          "name": "stdout",
          "text": [
            "Lista sorteada:\n",
            "[189, 192, 31, 106, 140, 181, 188, 56, 145, 82, 32, 74, 109, 97, 178, 123, 174, 167, 92, 71]\n",
            "\n",
            "Lista com números pares:\n",
            "[32, 56, 74, 82, 92, 106, 140, 174, 178, 188, 192]\n",
            "\n",
            "Lista com números ímpares:\n",
            "[31, 71, 97, 109, 123, 145, 167, 181, 189]\n"
          ]
        }
      ]
    },
    {
      "cell_type": "markdown",
      "source": [
        "**Usando a função `zip()`**\n",
        "\n",
        "A função `zip()` em Python é utilizada para emparelhar elementos de múltiplas sequências em tuplas $[1]$. Cada tupla resultante contém um elemento de cada uma das sequências. Ela é útil quando se precisa iterar sobre elementos de várias sequências de forma coordenada.\n",
        "\n",
        "$[1]$ Em Python, uma tupla é uma estrutura de dados imutável, semelhante a uma lista, mas com a diferença de que não pode ser modificada após a sua criação. As tuplas são definidas usando parênteses `()` e os elementos são separados por vírgulas. Podem conter elementos de diferentes tipos, como números, strings, outras tuplas, etc."
      ],
      "metadata": {
        "id": "n59k8AyjWc_H"
      }
    },
    {
      "cell_type": "code",
      "source": [
        "# Exemplo 1 - Emparelhamento simples\n",
        "nomes = ['Alice', 'Bob', 'Charlie']\n",
        "idades = [25, 30, 35]\n",
        "\n",
        "for nome, idade in zip(nomes, idades):\n",
        "  print(f'{nome} tem {idade} anos.')"
      ],
      "metadata": {
        "colab": {
          "base_uri": "https://localhost:8080/"
        },
        "id": "cDGSGsfJXWrL",
        "outputId": "34030f33-8625-4faa-a53a-5ed02cb4c7aa"
      },
      "execution_count": null,
      "outputs": [
        {
          "output_type": "stream",
          "name": "stdout",
          "text": [
            "Alice tem 25 anos.\n",
            "Bob tem 30 anos.\n",
            "Charlie tem 35 anos.\n"
          ]
        }
      ]
    },
    {
      "cell_type": "code",
      "source": [
        "# Exemplo 2 - Emparelhamento + índice\n",
        "nomes = ['Alice', 'Bob', 'Charlie']\n",
        "idades = [25, 30, 35]\n",
        "\n",
        "for ind, (nome, idade) in enumerate(zip(nomes, idades)):\n",
        "  print(f'Índice {ind}: {nome} tem {idade} anos.')"
      ],
      "metadata": {
        "colab": {
          "base_uri": "https://localhost:8080/"
        },
        "id": "zq7JVMJwXwnI",
        "outputId": "bcce6f4f-a4ef-4be6-af38-973c908d0611"
      },
      "execution_count": null,
      "outputs": [
        {
          "output_type": "stream",
          "name": "stdout",
          "text": [
            "Índice 0: Alice tem 25 anos.\n",
            "Índice 1: Bob tem 30 anos.\n",
            "Índice 2: Charlie tem 35 anos.\n"
          ]
        }
      ]
    },
    {
      "cell_type": "code",
      "source": [
        "# Exemplo 3\n",
        "'''Se as listas tiverem tamanhos diferentes, a função zip irá realizar\n",
        "o emparelhamento até que o tamanho da menor lista for atingido.'''\n",
        "\n",
        "lista1 = [1, 2, 3, 4]\n",
        "lista2 = ['a', 'b', 'c']\n",
        "\n",
        "for item in zip(lista1, lista2):\n",
        "  print(item)"
      ],
      "metadata": {
        "colab": {
          "base_uri": "https://localhost:8080/"
        },
        "id": "NaH5Tt5JZKoD",
        "outputId": "7b13c14b-0f29-4c08-82a7-cf45651a481d"
      },
      "execution_count": null,
      "outputs": [
        {
          "output_type": "stream",
          "name": "stdout",
          "text": [
            "(1, 'a')\n",
            "(2, 'b')\n",
            "(3, 'c')\n"
          ]
        }
      ]
    },
    {
      "cell_type": "code",
      "source": [
        "# Exemplo 4\n",
        "'''Esse incoveniente pode ser resolvido utilizando a função zip_longest\n",
        "da biblioteca itertools.'''\n",
        "\n",
        "from itertools import zip_longest\n",
        "\n",
        "lista1 = [1, 2, 3, 4]\n",
        "lista2 = ['a', 'b', 'c']\n",
        "\n",
        "# Combinar listas com `zip_longest`\n",
        "resultado = zip_longest(lista1, lista2, fillvalue=None)\n",
        "\n",
        "# Iterar sobre os resultados\n",
        "for item in resultado:\n",
        "    print(item)"
      ],
      "metadata": {
        "colab": {
          "base_uri": "https://localhost:8080/"
        },
        "id": "d3E87Jw4Zw54",
        "outputId": "b8713eba-e6ca-405a-b8c0-ee027e79fc56"
      },
      "execution_count": null,
      "outputs": [
        {
          "output_type": "stream",
          "name": "stdout",
          "text": [
            "(1, 'a')\n",
            "(2, 'b')\n",
            "(3, 'c')\n",
            "(4, None)\n"
          ]
        }
      ]
    },
    {
      "cell_type": "markdown",
      "source": [
        "##**Exercício 02**\n",
        "\n",
        "A tabela a seguir, retirada de https://www.climatempo.com.br/climatologia/558/saopaulo-sp, registra as temperaturas mínimas e máximas típicas para cada mês do ano na capital paulista."
      ],
      "metadata": {
        "id": "UawS72z_VOn7"
      }
    },
    {
      "cell_type": "markdown",
      "source": [
        "![image.png](data:image/png;base64,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)"
      ],
      "metadata": {
        "id": "nGsjJgc7YowT"
      }
    },
    {
      "cell_type": "markdown",
      "source": [
        "Elabore um programa Python que, a partir das informações da tabela anterior, calcule e exiba a temperatura média para cada mês em São Paulo. Use a função `zip()`."
      ],
      "metadata": {
        "id": "XxdYJfUiYpiD"
      }
    },
    {
      "cell_type": "code",
      "source": [
        "# Exercício 02\n",
        "\n",
        "# Listas necessárias\n",
        "meses = ['Janeiro', 'Fevereiro', 'Março', 'Abril', 'Maio', 'Junho',\n",
        "         'Julho', 'Agosto', 'Setembro', 'Outubro', 'Novembro', 'Dezembro']\n",
        "minimas = [19, 19, 19, 17, 14, 13, 12, 13, 14, 16, 17, 18]\n",
        "maximas = [27, 28, 27, 25, 23, 22, 22, 23, 24, 25, 26, 26]\n",
        "\n",
        "# Lista com temperaturas médias\n",
        "temp_media = [(minima + maxima)/2 for (minima, maxima) in zip(minimas, maximas)]\n",
        "\n",
        "# Saída de dados\n",
        "print('***Temperatura média em São Paulo***\\n')\n",
        "for (mes, temp) in zip(meses, temp_media):\n",
        "  print(f'{mes:10.10} {temp:5.1f}°C')"
      ],
      "metadata": {
        "colab": {
          "base_uri": "https://localhost:8080/"
        },
        "id": "hmF9yRlLZltr",
        "outputId": "4d94136f-1e17-4df4-c7e7-37b0e48ac38f"
      },
      "execution_count": null,
      "outputs": [
        {
          "output_type": "stream",
          "name": "stdout",
          "text": [
            "***Temperatura média em São Paulo***\n",
            "\n",
            "Janeiro     23.0°C\n",
            "Fevereiro   23.5°C\n",
            "Março       23.0°C\n",
            "Abril       21.0°C\n",
            "Maio        18.5°C\n",
            "Junho       17.5°C\n",
            "Julho       17.0°C\n",
            "Agosto      18.0°C\n",
            "Setembro    19.0°C\n",
            "Outubro     20.5°C\n",
            "Novembro    21.5°C\n",
            "Dezembro    22.0°C\n"
          ]
        }
      ]
    },
    {
      "cell_type": "markdown",
      "source": [
        "##**Exercício 03**\n",
        "\n",
        "Uma empresa de pesquisas precisa tabular os resultados da seguinte enquete realizada junto a uma grande quantidade de organizações:\n",
        "\n",
        "\"Qual o melhor Sistema Operacional para uso em servidores?\"\n",
        "\n",
        "As possíveis respostas são:\n",
        "\n",
        "* 1 - Windows\n",
        "* 2 - Unix\n",
        "* 3 - Linux\n",
        "* 4 - Netware\n",
        "* 5 - Mac OS\n",
        "* 6 - Outro\n",
        "\n",
        "Você deve desenvolver um programa em Python que leia as respostas da enquete (faça uma simulação usando a função `choice`) e informe o resultado ao final.\n",
        "\n",
        "Os valores referentes a cada uma das opções devem ser armazenados em uma lista. O programa deverá calcular o percentual de cada uma das respostas e informar o vencedor da enquete.\n",
        "\n",
        "O formato da saída foi dado pela empresa, e\n",
        "é o seguinte:\n",
        "\n",
        "`Sistemas Operacionais - Votos (%)`\n",
        "\n",
        "`Windows - 1500 (17%)`\n",
        "\n",
        " `Unix - 3500 (40%)`\n",
        "\n",
        " `Linux - 3000 (34%)`\n",
        "\n",
        " `Netware - 500 (5%)`\n",
        "\n",
        " `Mac OS - 150 (2%)`\n",
        "\n",
        " `Outro- 150 (2%)`\n",
        "\n",
        "`Total de 8800 votos`\n",
        "\n",
        "`O Sistema Operacional mais votado foi o Unix, com 3500 votos, correspondendo a 40% dos votos.`"
      ],
      "metadata": {
        "id": "pP28YB9EbdzF"
      }
    },
    {
      "cell_type": "code",
      "source": [
        "# Exercício 03\n",
        "from random import choice\n",
        "\n",
        "# Sistemas Operacionais\n",
        "sistemas = ['Windows', 'Unix', 'Linux', 'Netware', 'Mac OS', 'Outro']\n",
        "\n",
        "# Entrada do número de votos\n",
        "N = int(input('Digite o número de votos a serem processados: '))\n",
        "\n",
        "# Geração dos votos\n",
        "escolhas = list(range(1, len(sistemas) + 1))\n",
        "votos = [choice(escolhas) for i in range(N)]\n",
        "\n",
        "# Contagem dos votos\n",
        "contagem = [votos.count(escolha) for escolha in escolhas]\n",
        "percentagem = [votos/N for votos in contagem]\n",
        "\n",
        "# Impressão dos resultados\n",
        "print('\\nSistemas Operacionais - Votos (%)')\n",
        "for (sistema, num_votos, perc) in zip(sistemas, contagem, percentagem):\n",
        "  print(f'{sistema:8}\\t{num_votos}\\t({perc*100:.2f}%)')\n",
        "print(f'\\nTotal de {N} votos')\n",
        "\n",
        "# Vencedor\n",
        "vencedor = contagem.index(max(contagem))\n",
        "print(f'''\\nO Sistema Operacional mais votado foi o {sistemas[vencedor]},\n",
        "          com {contagem[vencedor]} votos,\n",
        "          correspondendo a {percentagem[vencedor]*100:.2f}% dos votos.''')"
      ],
      "metadata": {
        "colab": {
          "base_uri": "https://localhost:8080/"
        },
        "id": "5L3VBfrmeQCC",
        "outputId": "d789c8e5-a77f-4fa6-af59-b2522cdb2253"
      },
      "execution_count": null,
      "outputs": [
        {
          "output_type": "stream",
          "name": "stdout",
          "text": [
            "Digite o número de votos a serem processados: 6000\n",
            "\n",
            "Sistemas Operacionais - Votos (%)\n",
            "Windows \t971\t(16.18%)\n",
            "Unix    \t995\t(16.58%)\n",
            "Linux   \t975\t(16.25%)\n",
            "Netware \t1051\t(17.52%)\n",
            "Mac OS  \t1015\t(16.92%)\n",
            "Outro   \t993\t(16.55%)\n",
            "\n",
            "Total de 6000 votos\n",
            "\n",
            "O Sistema Operacional mais votado foi o Netware,\n",
            "          com 1051 votos,\n",
            "          correspondendo a 17.52% dos votos.\n"
          ]
        }
      ]
    },
    {
      "cell_type": "markdown",
      "source": [
        "##**Exercício 04**\n",
        "\n",
        "Considere a função $h$ a seguir, definida para todos os reais:\n",
        "\n",
        "$$h(x)=\\frac{1}{\\sqrt{2\\pi}}e^{-\\frac{1}{2}x^2}$$\n",
        "\n",
        "Construa uma lista `listax` contendo 81 valores uniformemente espaçados da coordenada `x` no intervalo $[-4, 4]$.\n",
        "\n",
        "A seguir, construa uma lista `listah`com os respectivos valores da função $h$ para cada um dos valores armazenados em `listax`. Plote o gráfico da função."
      ],
      "metadata": {
        "id": "N5oJbm34UId_"
      }
    },
    {
      "cell_type": "code",
      "source": [
        "# Exercício 04\n",
        "\n",
        "# Bibioteca para construção de gráficos\n",
        "import matplotlib.pyplot as plt\n",
        "\n",
        "# Criação de sequência de valores uniformemente espaçados\n",
        "from numpy import linspace\n",
        "\n",
        "# Funções matemáticas\n",
        "from math import sqrt, pi, exp\n",
        "\n",
        "# Lista de coordenadas x\n",
        "listax = linspace(start=-4, stop=4, num=81).tolist()\n",
        "\n",
        "# Lista com coordenadas y = h(x)\n",
        "listah = [1/sqrt(2*pi)*exp(-1/2*x**2) for x in listax]\n",
        "\n",
        "# Traçado do gráfico\n",
        "plt.plot(listax, listah, color='red', linewidth=3)\n",
        "plt.xlabel('$x$')\n",
        "plt.ylabel('$h(x)$')\n",
        "plt.grid(linestyle='--')\n",
        "plt.show()"
      ],
      "metadata": {
        "colab": {
          "base_uri": "https://localhost:8080/",
          "height": 449
        },
        "id": "a4WCsdDAfMmC",
        "outputId": "110abd3c-2002-4f5b-9442-ae34fe73a1ff"
      },
      "execution_count": null,
      "outputs": [
        {
          "output_type": "display_data",
          "data": {
            "text/plain": [
              "<Figure size 640x480 with 1 Axes>"
            ],
            "image/png": "[encoded data removed]"
          },
          "metadata": {}
        }
      ]
    }
  ]
}