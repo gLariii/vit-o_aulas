{
  "cells": [
    {
      "cell_type": "markdown",
      "source": [
        "#**TTI103 - Lógica de Programação**\n",
        "\n",
        "#**Aula L17 - Strings**"
      ],
      "metadata": {
        "id": "eukAJhnq3T1T"
      }
    },
    {
      "cell_type": "markdown",
      "metadata": {
        "id": "WaIyvXLa38Xo"
      },
      "source": [
        "##**Exercício 01 – Gerando o *user name***\n",
        "\n",
        "Em uma universidade, à cada estudante é atribuído um *user name* necessário para o acesso à rede discente. Como parte de seu estágio no Departamento de Tecnologia da Informação da universidade, foi-lhe atribuída a tarefa de escrever um programa responsável pela geração dos nomes de usuário para os estudantes. As regras para a construção são vistas a seguir:\n",
        "\n",
        "* Selecione os três primeiros caracteres do nome do estudante (caso o nome possua menos de três caracteres, use o nome completo);\n",
        "\n",
        "* Selecione os três primeiros caracteres do sobrenome do estudante (caso o sobrenome possua menos de três caracteres, use o sobrenome completo);\n",
        "\n",
        "* Selecione os três últimos caracteres do registro acadêmico [RA ou ID] do estudante (caso o registro acadêmico ou ID possua menos de três caracteres, use o registro completo);\n",
        "\n",
        "* O *user name* é criado pela concatenação dos três conjuntos de caracteres (em caixa baixa).\n",
        "\n",
        "Para a criação do programa, modularize seu código:\n",
        "\n",
        "**a)** Crie uma função `gera_login` que recebe como parâmetros o nome, o sobrenome e o registro acadêmico de um estudante e retorna o user name criado.\n"
      ]
    },
    {
      "cell_type": "code",
      "execution_count": null,
      "metadata": {
        "id": "T6hD6HtbhvmY",
        "colab": {
          "base_uri": "https://localhost:8080/"
        },
        "outputId": "19bf0f43-e807-4cba-b9c5-1d3ecc32d989"
      },
      "outputs": [
        {
          "output_type": "stream",
          "name": "stdout",
          "text": [
            "joasil345\n",
            "xuxia907\n",
            "joasa347\n",
            "vitalv4-1\n"
          ]
        }
      ],
      "source": [
        "# Função gera_login\n",
        "def gera_login_1a_tentativa(nome, sobrenome, ID):\n",
        "  if len(nome) > 3:\n",
        "    inicio = nome[:3]\n",
        "  else:\n",
        "    inicio = nome\n",
        "  if len(sobrenome) > 3:\n",
        "    meio = sobrenome[:3]\n",
        "  else:\n",
        "    meio = sobrenome\n",
        "  if len(ID) > 3:\n",
        "    fim = ID[-3:]\n",
        "  else:\n",
        "    fim = ID\n",
        "  return inicio.lower() + meio.lower() + fim\n",
        "\n",
        "def gera_login(nome, sobrenome, ID):\n",
        "  inicio = nome[:3] if len(nome) > 3 else nome\n",
        "  meio = sobrenome[:3] if len(sobrenome) > 3 else sobrenome\n",
        "  fim = ID[-3:] if len(ID) > 3 else ID\n",
        "  return inicio.lower() + meio.lower() + fim\n",
        "\n",
        "# Testes\n",
        "print(gera_login('Joao', 'Silva', '12345'))\n",
        "print(gera_login('Xu', 'Xiang', '8907'))\n",
        "print(gera_login('Joaquim', 'Sa', '2500347'))\n",
        "# Próximo teste gera um problema!\n",
        "print(gera_login('Vitor', 'Alves', '35.774-1'))"
      ]
    },
    {
      "cell_type": "markdown",
      "metadata": {
        "id": "9H4LxlTAhykX"
      },
      "source": [
        "**b)** Elabore um programa que permita a entrada de dados de um estudante e exiba o respectivo user name."
      ]
    },
    {
      "cell_type": "code",
      "source": [
        "# Testes preparativos\n",
        "texto = 'Hoje está um dia bonito, meu amigo!'\n",
        "print(f'Texto original = {texto}')\n",
        "print(f'Lista de palavras = {texto.split()}')\n",
        "import string\n",
        "pontuacao = string.punctuation\n",
        "print(f'Caracteres de pontuação = {pontuacao}')\n",
        "tabela_conversao = str.maketrans('', '', pontuacao)\n",
        "texto = texto.translate(tabela_conversao)\n",
        "print(f'Texto original sem pontuação: {texto}')\n",
        "print(f'Lista de palavras sem pontuação = {texto.split()}')"
      ],
      "metadata": {
        "colab": {
          "base_uri": "https://localhost:8080/"
        },
        "id": "cO9zmyxnycNu",
        "outputId": "760c9048-f62b-4d03-9bac-cf1dc02aebc5"
      },
      "execution_count": null,
      "outputs": [
        {
          "output_type": "stream",
          "name": "stdout",
          "text": [
            "Texto original = Hoje está um dia bonito, meu amigo!\n",
            "Lista de palavras = ['Hoje', 'está', 'um', 'dia', 'bonito,', 'meu', 'amigo!']\n",
            "Caracteres de pontuação = !\"#$%&'()*+,-./:;<=>?@[\\]^_`{|}~\n",
            "Texto original sem pontuação: Hoje está um dia bonito meu amigo\n",
            "Lista de palavras sem pontuação = ['Hoje', 'está', 'um', 'dia', 'bonito', 'meu', 'amigo']\n"
          ]
        }
      ]
    },
    {
      "cell_type": "code",
      "execution_count": null,
      "metadata": {
        "id": "JbFcLo9hh2SX",
        "colab": {
          "base_uri": "https://localhost:8080/"
        },
        "outputId": "bd0b1887-561a-4ae3-c08f-78790f497341"
      },
      "outputs": [
        {
          "output_type": "stream",
          "name": "stdout",
          "text": [
            "Digite o nome, sobrenome e ID: Vitor Alves 35.774-1\n",
            "Seu login na rede é vitalv741\n"
          ]
        }
      ],
      "source": [
        "# Programa\n",
        "import string\n",
        "\n",
        "nome, sobrenome , ID = input('Digite o nome, sobrenome e ID: ').split()\n",
        "pontuacao = string.punctuation\n",
        "tabela_conversao = str.maketrans('', '', pontuacao)\n",
        "ID = ID.translate(tabela_conversao)\n",
        "login = gera_login(nome, sobrenome, ID)\n",
        "print(f'Seu login na rede é {login}')"
      ]
    },
    {
      "cell_type": "markdown",
      "metadata": {
        "id": "SMMs32Hih5VO"
      },
      "source": [
        "##**Exercício 02 - Validação de senha**\n",
        "\n",
        "Continuando seu trabalho no Departamento de TI da universidade, sua nova tarefa é a criação de um programa que valide a escolha de senha de cada estudante para o acesso à rede de computadores. Quando da criação da senha, o estudante foi comunicado de que a senha escolhida devia:\n",
        "\n",
        "* Ser formada por, no mínimo, sete caracteres;\n",
        "* Conter ao menos uma letra maiúscula;\n",
        "* Conter ao menos uma letra minúscula;\n",
        "* Conter ao menos um dígito numérico.\n",
        "\n",
        "Para a criação do programa, modularize seu código:\n",
        "\n",
        "**a)** Crie uma função `valida_senha` que recebe como parâmetro a senha do usuário e retorna `True` se a senha é válida ou `False`, caso contrário."
      ]
    },
    {
      "cell_type": "code",
      "execution_count": null,
      "metadata": {
        "id": "LS3gBig41QyB",
        "colab": {
          "base_uri": "https://localhost:8080/"
        },
        "outputId": "0464c382-03e2-4ccc-eb0f-a0296d05da2d"
      },
      "outputs": [
        {
          "output_type": "stream",
          "name": "stdout",
          "text": [
            "False\n",
            "False\n",
            "True\n",
            "False\n",
            "False\n"
          ]
        }
      ],
      "source": [
        "# Função valida_senha\n",
        "# https://www.w3schools.com/python/python_strings_methods.asp\n",
        "def valida_senha(senha):\n",
        "    COMP_SENHA = 7\n",
        "    maiuscula_ok = False\n",
        "    minuscula_ok = False\n",
        "    numero_ok = False\n",
        "    if len(senha) >= COMP_SENHA:\n",
        "        for caractere in senha:\n",
        "            if caractere.isupper():\n",
        "                maiuscula_ok = True\n",
        "            if caractere.islower():\n",
        "                minuscula_ok = True\n",
        "            if caractere.isdigit():\n",
        "                numero_ok = True\n",
        "        return maiuscula_ok and minuscula_ok and numero_ok\n",
        "    else:\n",
        "        return False\n",
        "\n",
        "# Testes\n",
        "print(valida_senha('xuxu'))\n",
        "print(valida_senha('abacaxi'))\n",
        "print(valida_senha('Xampuzinho2004'))\n",
        "print(valida_senha('123456789'))\n",
        "print(valida_senha('BARBIE99'))"
      ]
    },
    {
      "cell_type": "code",
      "execution_count": null,
      "metadata": {
        "id": "mW2vUxpkiV6I",
        "colab": {
          "base_uri": "https://localhost:8080/"
        },
        "outputId": "f2e2a1fd-375f-476e-b421-0fe2132b2654"
      },
      "outputs": [
        {
          "output_type": "stream",
          "name": "stdout",
          "text": [
            "False\n",
            "False\n",
            "True\n",
            "False\n",
            "False\n"
          ]
        }
      ],
      "source": [
        "# Função valida_senha\n",
        "# https://www.w3schools.com/python/python_strings_methods.asp\n",
        "def valida_senha(senha):\n",
        "    COMP_SENHA = 7\n",
        "    if len(senha) >= COMP_SENHA:\n",
        "        upper_ok = any(char.isupper() for char in senha)\n",
        "        lower_ok = any(char.islower() for char in senha)\n",
        "        dig_ok = any(char.isdigit() for char in senha)\n",
        "    else:\n",
        "        return False\n",
        "    return upper_ok and lower_ok and dig_ok\n",
        "\n",
        "# Testes\n",
        "print(valida_senha('xuxu'))\n",
        "print(valida_senha('abacaxi'))\n",
        "print(valida_senha('Xampuzinho2004'))\n",
        "print(valida_senha('123456789'))\n",
        "print(valida_senha('BARBIE99'))"
      ]
    },
    {
      "cell_type": "code",
      "source": [
        "def valida_senha(senha):\n",
        "  COMP_SENHA = 7\n",
        "  if len(senha) >= COMP_SENHA:\n",
        "    tem_maiuscula = not(senha == senha.lower())\n",
        "    tem_minuscula = not(senha == senha.upper())\n",
        "    tem_numero = any([char.isdigit() for char in senha])\n",
        "    return tem_maiuscula and tem_minuscula and tem_numero\n",
        "  else:\n",
        "    return False\n",
        "\n",
        "# Testes\n",
        "print(valida_senha('xuxu'))\n",
        "print(valida_senha('abacaxi'))\n",
        "print(valida_senha('Xampuzinho2004'))\n",
        "print(valida_senha('123456789'))\n",
        "print(valida_senha('BARBIE99'))"
      ],
      "metadata": {
        "colab": {
          "base_uri": "https://localhost:8080/"
        },
        "id": "npWKeJUr7zbg",
        "outputId": "071ce17f-87e2-4290-ba10-64fe463d6851"
      },
      "execution_count": null,
      "outputs": [
        {
          "output_type": "stream",
          "name": "stdout",
          "text": [
            "False\n",
            "False\n",
            "True\n",
            "False\n",
            "False\n"
          ]
        }
      ]
    },
    {
      "cell_type": "markdown",
      "metadata": {
        "id": "kTSNZ6RKibmf"
      },
      "source": [
        "**b)** Elabore um programa que solicite a digitação da senha. Caso se trate de uma senha válida, o programa deve exibir a mensagem “Senha validada”. Caso seja inválida, o processo de entrada deve se repetir até que uma senha válida seja informada."
      ]
    },
    {
      "cell_type": "code",
      "execution_count": null,
      "metadata": {
        "id": "3oedrWboiYY_",
        "colab": {
          "base_uri": "https://localhost:8080/"
        },
        "outputId": "055392bb-2063-46b9-9b82-5a69b3145d76"
      },
      "outputs": [
        {
          "output_type": "stream",
          "name": "stdout",
          "text": [
            "Digite sua senha: vitalv741\n",
            "ERRO: Senha inválida!\n",
            "Digite sua senha: 357741@Vitor\n",
            "Senha validada!\n"
          ]
        }
      ],
      "source": [
        "# Programa\n",
        "senha = input('Digite sua senha: ')\n",
        "while not valida_senha(senha):\n",
        "    print('ERRO: Senha inválida!')\n",
        "    senha = input('Digite sua senha: ')\n",
        "print('Senha validada!')"
      ]
    },
    {
      "cell_type": "markdown",
      "metadata": {
        "id": "my2vbFJ8imjo"
      },
      "source": [
        "##**Exercício 03 – Vogais e consoantes**\n",
        "\n",
        "Escreva um programa que peça ao usuário a entrada de uma *string* (uma frase, por exemplo) e exiba o número de vogais e consoantes presentes nela. Para tanto:\n",
        "\n",
        "**a)** Crie uma função `conta_vogais` que recebe como parâmetro uma *string* e retorna o número de vogais nela contida."
      ]
    },
    {
      "cell_type": "code",
      "execution_count": null,
      "metadata": {
        "id": "bYt1iwPyilw2",
        "colab": {
          "base_uri": "https://localhost:8080/"
        },
        "outputId": "feaf33ed-f0a4-4b12-84ef-9499b075da8e"
      },
      "outputs": [
        {
          "output_type": "stream",
          "name": "stdout",
          "text": [
            "3\n",
            "10\n"
          ]
        }
      ],
      "source": [
        "# Função conta_vogais\n",
        "def conta_vogais(txt):\n",
        "    txt = txt.lower()\n",
        "    vogais = 'aeiouáàâãéêíóôõú'\n",
        "    ocorrencias = 0\n",
        "    for letra in txt:\n",
        "        if letra in vogais:\n",
        "            ocorrencias += 1\n",
        "    return ocorrencias\n",
        "\n",
        "# Testes\n",
        "print(conta_vogais('Mauá'))\n",
        "print(conta_vogais('Palmeiras não tem mundial.'))"
      ]
    },
    {
      "cell_type": "code",
      "source": [
        "# Função conta_vogais\n",
        "def conta_vogais(txt):\n",
        "  txt = txt.lower()\n",
        "  vogais = 'aeiouáàâãéêíóôõú'\n",
        "  return sum([letra in vogais for letra in txt])\n",
        "\n",
        "# Testes\n",
        "print(conta_vogais('Mauá'))\n",
        "print(conta_vogais('Palmeiras não tem mundial.'))"
      ],
      "metadata": {
        "colab": {
          "base_uri": "https://localhost:8080/"
        },
        "id": "jady1YlQ_brF",
        "outputId": "92bbc185-4eec-4e6a-b841-5c5b7f73f100"
      },
      "execution_count": null,
      "outputs": [
        {
          "output_type": "stream",
          "name": "stdout",
          "text": [
            "3\n",
            "10\n"
          ]
        }
      ]
    },
    {
      "cell_type": "markdown",
      "source": [
        "**b)** Crie uma função `conta_consoantes` que recebe como parâmetro uma *string* e retorna o número de consoantes nela contida."
      ],
      "metadata": {
        "id": "mGHHGuVD_wUA"
      }
    },
    {
      "cell_type": "code",
      "execution_count": null,
      "metadata": {
        "id": "cT9unCeIjOwY",
        "colab": {
          "base_uri": "https://localhost:8080/"
        },
        "outputId": "d766ec4c-89b6-4af2-f288-f89f9351a8bc"
      },
      "outputs": [
        {
          "output_type": "stream",
          "name": "stdout",
          "text": [
            "1\n",
            "12\n"
          ]
        }
      ],
      "source": [
        "# Função conta_consoantes\n",
        "def conta_consoantes(txt):\n",
        "    txt = txt.lower()\n",
        "    consoantes = 'bcçdfghjklmnpqrstvwxyz'\n",
        "    ocorrencias = 0\n",
        "    for letra in txt:\n",
        "        if letra in consoantes:\n",
        "            ocorrencias += 1\n",
        "    return ocorrencias\n",
        "\n",
        "# Testes\n",
        "print(conta_consoantes('Mauá'))\n",
        "print(conta_consoantes('Palmeiras não tem mundial.'))"
      ]
    },
    {
      "cell_type": "code",
      "source": [
        "# Função conta_consoantes\n",
        "def conta_consoantes(txt):\n",
        "  txt = txt.lower()\n",
        "  consoantes = 'bcdfghjklmnpqrstvwxyz'\n",
        "  return sum([letra in consoantes for letra in txt])\n",
        "\n",
        "# Testes\n",
        "print(conta_consoantes('Mauá'))\n",
        "print(conta_consoantes('Palmeiras não tem mundial.'))"
      ],
      "metadata": {
        "colab": {
          "base_uri": "https://localhost:8080/"
        },
        "id": "tJxnxKYUAHMF",
        "outputId": "7d7f4965-5a15-4ded-dac3-00941f7b8db7"
      },
      "execution_count": null,
      "outputs": [
        {
          "output_type": "stream",
          "name": "stdout",
          "text": [
            "1\n",
            "12\n"
          ]
        }
      ]
    },
    {
      "cell_type": "markdown",
      "source": [
        "**c)** Construa o programa que recebe uma *string* do usuário e, usando as funções dos itens anteriores, exibe o número de vogais e consoantes nela presentes."
      ],
      "metadata": {
        "id": "NaDO9LmL_xWI"
      }
    },
    {
      "cell_type": "code",
      "execution_count": null,
      "metadata": {
        "id": "30jdsVYdjRsW",
        "colab": {
          "base_uri": "https://localhost:8080/"
        },
        "outputId": "3c2255f6-49ab-4827-a643-198ed90202e9"
      },
      "outputs": [
        {
          "output_type": "stream",
          "name": "stdout",
          "text": [
            "Digite uma frase: Hoje está nublado!\n",
            "A frase 'Hoje está nublado!' possui:\n",
            "      7 vogais\n",
            "      8 consoantes\n"
          ]
        }
      ],
      "source": [
        "# Programa\n",
        "texto = input('Digite uma frase: ')\n",
        "num_vogais = conta_vogais(texto)\n",
        "num_consoantes = conta_consoantes(texto)\n",
        "print(f'''A frase '{texto}' possui:\n",
        "      {num_vogais} vogais\n",
        "      {num_consoantes} consoantes''')"
      ]
    },
    {
      "cell_type": "markdown",
      "metadata": {
        "id": "TZW5nhe9jTlx"
      },
      "source": [
        "##**Exercício 04 – Pig Latin (“Latim porco”, em uma tradução livre)**\n",
        "\n",
        "Escreva um programa que solicita uma frase como entrada e a traduza para o “Latim porco”. Em uma de suas versões, a tradução de uma palavra para o “Latim porco” se dá em duas etapas:\n",
        "\n",
        "* Remoção da primeira letra da palavra e inserção dessa ao final;\n",
        "* Concatenar “ay” à palavra.\n",
        "\n",
        "Veja um exemplo:\n",
        "\n",
        "**Frase original:** Eu quero ver o oco (Refrão de “Eu quero ver o oco”, sucesso dos Raimundos em 1995)\n",
        "\n",
        "**Frase em \"latim porco\":** ueay ueroqay ervay oay cooay\n",
        "\n",
        "Para a criação do programa, modularize seu código:\n",
        "\n",
        "**a)** Crie uma função `pig_latin` que recebe como parâmetro uma frase e retorna sua tradução para o “latim porco”."
      ]
    },
    {
      "cell_type": "code",
      "execution_count": null,
      "metadata": {
        "id": "_wqRzUd9kBnB",
        "colab": {
          "base_uri": "https://localhost:8080/"
        },
        "outputId": "aa22198b-e7e7-4c94-b677-58ae1642df68"
      },
      "outputs": [
        {
          "output_type": "stream",
          "name": "stdout",
          "text": [
            "ueay ueroqay ervay oay cooay\n",
            "ipoquinhapay\n"
          ]
        }
      ],
      "source": [
        "# Função pig_latin\n",
        "def pig_latin(txt):\n",
        "    txt = txt.lower().split()\n",
        "    traducao = []\n",
        "    for palavra in txt:\n",
        "        traducao.append(palavra[1:] + palavra[0] + 'ay')\n",
        "    return ' '.join(traducao)\n",
        "\n",
        "# Testes\n",
        "print(pig_latin('Eu quero ver o oco'))\n",
        "print(pig_latin('Pipoquinha'))"
      ]
    },
    {
      "cell_type": "code",
      "execution_count": null,
      "metadata": {
        "id": "iOKBfzfl1QyZ",
        "colab": {
          "base_uri": "https://localhost:8080/"
        },
        "outputId": "7bc6246f-fd7a-4723-f356-78d5899afa76"
      },
      "outputs": [
        {
          "output_type": "stream",
          "name": "stdout",
          "text": [
            "ueay ueroqay ervay oay cooay\n",
            "ipoquinhapay\n",
            "earstay foay hetay ragonday\n"
          ]
        }
      ],
      "source": [
        "# Função pig_latin\n",
        "def pig_latin(txt):\n",
        "  txt = txt.lower().split()\n",
        "  traducao = [palavra[1:] + palavra[0] + 'ay' for palavra in txt]\n",
        "  return ' '.join(traducao)\n",
        "\n",
        "# Testes\n",
        "print(pig_latin('Eu quero ver o oco'))\n",
        "print(pig_latin('Pipoquinha'))\n",
        "print(pig_latin('Tears of the dragon'))"
      ]
    },
    {
      "cell_type": "markdown",
      "source": [
        "**b)** Elabore um programa que solicite a digitação de uma frase e exiba a versão traduzida em “latim porco”."
      ],
      "metadata": {
        "id": "aWhA_O8g_55Z"
      }
    },
    {
      "cell_type": "code",
      "execution_count": null,
      "metadata": {
        "id": "Zm_zjRKakIKW",
        "colab": {
          "base_uri": "https://localhost:8080/"
        },
        "outputId": "1083f377-75c6-4678-bcf6-61e17e28c9c2"
      },
      "outputs": [
        {
          "output_type": "stream",
          "name": "stdout",
          "text": [
            "Digite uma frase: O mundo está perdido\n",
            "Frase original:\n",
            "O mundo está perdido\n",
            "Frase em \"latim porco\":\n",
            "oay undomay stáeay erdidopay\n"
          ]
        }
      ],
      "source": [
        "# Programa\n",
        "frase = input('Digite uma frase: ')\n",
        "frase_pig_latin = pig_latin(frase)\n",
        "print('Frase original:')\n",
        "print(frase)\n",
        "print('Frase em \"latim porco\":')\n",
        "print(frase_pig_latin)"
      ]
    },
    {
      "cell_type": "code",
      "source": [
        "# Função para traduzir uma frase em latim porco para o português\n",
        "def volta_ao_normal(porco):\n",
        "  return ' '.join([palavra[-3] + palavra[:-3] for palavra in porco.split()])\n",
        "\n",
        "# Testes\n",
        "print(volta_ao_normal('steeay undomay stáeay erdidopay'))\n",
        "print(volta_ao_normal('ueay ueroqay ervay oay cooay'))"
      ],
      "metadata": {
        "id": "ZTpvoRq09d5x"
      },
      "execution_count": null,
      "outputs": []
    },
    {
      "cell_type": "markdown",
      "source": [
        "##**Exercício 05 - Tratando datas**\n",
        "\n",
        "Leia uma cadeia de caracteres no formato “DD/MM/AAAA” e copie o dia, mês e ano para 3 variaveis inteiras. Antes disso:\n",
        "\n",
        "**a)** Construa uma função `verifica_barras` que recebe a data fornecida e checa se as barras estão posicionadas corretamente. Em caso de de inconsistência a função deve retornar `False`, caso contrário, `True`."
      ],
      "metadata": {
        "id": "Nwdo6Moy5MLa"
      }
    },
    {
      "cell_type": "code",
      "source": [
        "# Função verifica_barras\n",
        "def verifica_barras(data):\n",
        "  if len(data) != 10:\n",
        "    return False\n",
        "  if data[2] != '/' or data[5] != '/':\n",
        "    return False\n",
        "  return True\n",
        "\n",
        "# Testes\n",
        "print(verifica_barras(\"30/04/2025\"))\n",
        "print(verifica_barras(\"3004/2025\"))\n",
        "print(verifica_barras(\"30-04-2025\"))\n",
        "print(verifica_barras(\"3/04/2025\"))"
      ],
      "metadata": {
        "id": "LNh6w8nU6n2h",
        "colab": {
          "base_uri": "https://localhost:8080/"
        },
        "outputId": "1695d34a-376c-4616-d977-74b4b74d37fd"
      },
      "execution_count": null,
      "outputs": [
        {
          "output_type": "stream",
          "name": "stdout",
          "text": [
            "True\n",
            "False\n",
            "False\n",
            "False\n"
          ]
        }
      ]
    },
    {
      "cell_type": "markdown",
      "source": [
        "**b)** Construa a função `verifica_campos` que recebe a data fornecida, separa os campos DD, MM e AAAA e verifica se são numéricos. Em caso afirmativo, a função deve retornar os campos no formato inteiro; caso contrário, deve retornar `False`."
      ],
      "metadata": {
        "id": "sfMH2hce6obA"
      }
    },
    {
      "cell_type": "code",
      "source": [
        "# Função verifica_campos\n",
        "def verifica_campos(data):\n",
        "  try:\n",
        "    partes = data.split('/')\n",
        "    if len(partes) != 3:\n",
        "      return False\n",
        "    dia, mes, ano = partes\n",
        "    if not (dia.isdigit() and mes.isdigit() and ano.isdigit()):\n",
        "      return False\n",
        "    return int(dia), int(mes), int(ano)\n",
        "  except:\n",
        "    return False\n",
        "\n",
        "# Testes\n",
        "print(verifica_campos(\"30/04/2025\"))\n",
        "print(verifica_campos(\"30/ab/2025\"))\n",
        "print(verifica_campos(\"3a/04/2025\"))\n",
        "print(verifica_campos(\"30/04\"))"
      ],
      "metadata": {
        "id": "K9vxoS8h72Cw",
        "colab": {
          "base_uri": "https://localhost:8080/"
        },
        "outputId": "2d40c932-b37e-4131-b8ae-c5155bd495de"
      },
      "execution_count": null,
      "outputs": [
        {
          "output_type": "stream",
          "name": "stdout",
          "text": [
            "(30, 4, 2025)\n",
            "False\n",
            "False\n",
            "False\n"
          ]
        }
      ]
    },
    {
      "cell_type": "markdown",
      "source": [
        "**c)** Elabore um programa que peça ao usuário que digite uma data no formato DD/MM/AAAA e, usando as funções dos itens anteriores, armazene, se possível, os campos DD, MM e AAAA em variáveis inteiras. Se houver algum tipo de incoerência na entrada fornecida, o programa deve pedir nova digitação."
      ],
      "metadata": {
        "id": "7ozDAJJQ72bQ"
      }
    },
    {
      "cell_type": "code",
      "source": [
        "def data_valida(dia, mes, ano):\n",
        "  import datetime\n",
        "  try:\n",
        "    datetime.date(ano, mes, dia)\n",
        "    return True\n",
        "  except ValueError:\n",
        "    return False\n",
        "\n",
        "# Programa\n",
        "while True:\n",
        "  data = input(\"Digite uma data no formato DD/MM/AAAA: \")\n",
        "  if not verifica_barras(data):\n",
        "    print(\"Erro: As barras '/' estão em posições incorretas.\")\n",
        "    continue\n",
        "  resultado = verifica_campos(data)\n",
        "  if not resultado:\n",
        "    print(\"Erro: Os campos de dia, mês e ano devem conter apenas números.\")\n",
        "    continue\n",
        "  dia, mes, ano = resultado\n",
        "  if not data_valida(dia, mes, ano):\n",
        "    print(\"Erro: A data fornecida não é válida no calendário.\")\n",
        "    continue\n",
        "  print(f\"Data válida! Dia: {dia}, Mês: {mes}, Ano: {ano}\")\n",
        "  break\n",
        "\n",
        "''' Exemplos de uso:\n",
        "\n",
        "Digite uma data no formato DD/MM/AAAA: 30-04-2025\n",
        "Erro: As barras '/' estão em posições incorretas.\n",
        "\n",
        "Digite uma data no formato DD/MM/AAAA: 30/ab/2025\n",
        "Erro: Os campos de dia, mês e ano devem conter apenas números.\n",
        "\n",
        "Digite uma data no formato DD/MM/AAAA: 30/04/2025\n",
        "Data válida! Dia: 30, Mês: 4, Ano: 2025 '''"
      ],
      "metadata": {
        "id": "dfEJduA28ScJ",
        "colab": {
          "base_uri": "https://localhost:8080/"
        },
        "outputId": "6f1bba09-1498-4358-f10d-62128e7b50a2"
      },
      "execution_count": null,
      "outputs": [
        {
          "output_type": "stream",
          "name": "stdout",
          "text": [
            "Digite uma data no formato DD/MM/AAAA: 30-04-2025\n",
            "Erro: As barras '/' estão em posições incorretas.\n",
            "Digite uma data no formato DD/MM/AAAA: 30/abr/2025\n",
            "Erro: As barras '/' estão em posições incorretas.\n",
            "Digite uma data no formato DD/MM/AAAA: 35/12/2014\n",
            "Erro: A data fornecida não é válida no calendário.\n",
            "Digite uma data no formato DD/MM/AAAA: 30/04/2025\n",
            "Data válida! Dia: 30, Mês: 4, Ano: 2025\n"
          ]
        }
      ]
    },
    {
      "cell_type": "markdown",
      "source": [
        "##**Desafio - Tratamento de strings**##\n",
        "\n",
        "Elabore um programa modular que encontre o conjunto de 5 dígitos consecutivos na sequência abaixo que gere o maior produto."
      ],
      "metadata": {
        "id": "kBTRt8fl8S0x"
      }
    },
    {
      "cell_type": "code",
      "source": [
        "# String para análise\n",
        "sequencia = '''\n",
        "73167176531330624919225119674426574742355349194934\n",
        "96983520312774506326239578318016984801869478851843\n",
        "85861560789112949495459501737958331952853208805511\n",
        "12540698747158523863050715693290963295227443043557\n",
        "66896648950445244523161731856403098711121722383113\n",
        "62229893423380308135336276614282806444486645238749\n",
        "30358907296290491560440772390713810515859307960866\n",
        "70172427121883998797908792274921901699720888093776\n",
        "65727333001053367881220235421809751254540594752243\n",
        "52584907711670556013604839586446706324415722155397\n",
        "53697817977846174064955149290862569321978468622482\n",
        "83972241375657056057490261407972968652414535100474\n",
        "82166370484403199890008895243450658541227588666881\n",
        "16427171479924442928230863465674813919123162824586\n",
        "17866458359124566529476545682848912883142607690042\n",
        "24219022671055626321111109370544217506941658960408\n",
        "07198403850962455444362981230987879927244284909188\n",
        "84580156166097919133875499200524063689912560717606\n",
        "05886116467109405077541002256983155200055935729725\n",
        "71636269561882670428252483600823257530420752963450\n",
        "'''"
      ],
      "metadata": {
        "id": "sWauEdy38yzB"
      },
      "execution_count": null,
      "outputs": []
    },
    {
      "cell_type": "code",
      "source": [
        "def limpar_sequencia(seq):\n",
        "    \"\"\"\n",
        "    Remove espaços e quebras de linha da sequência.\n",
        "    \"\"\"\n",
        "    return seq.replace('\\n', '').replace(' ', '')\n",
        "\n",
        "def produto_digitos(s):\n",
        "    \"\"\"\n",
        "    Calcula o produto dos dígitos em uma string numérica.\n",
        "    \"\"\"\n",
        "    produto = 1\n",
        "    for char in s:\n",
        "        produto *= int(char)\n",
        "    return produto\n",
        "\n",
        "def maior_produto(seq, tamanho=5):\n",
        "    \"\"\"\n",
        "    Retorna o maior produto de 'tamanho' dígitos consecutivos na sequência.\n",
        "    \"\"\"\n",
        "    max_produto = 0\n",
        "    max_grupo = \"\"\n",
        "\n",
        "    for i in range(len(seq) - tamanho + 1):\n",
        "        grupo = seq[i:i + tamanho]\n",
        "        p = produto_digitos(grupo)\n",
        "        if p > max_produto:\n",
        "            max_produto = p\n",
        "            max_grupo = grupo\n",
        "\n",
        "    return max_grupo, max_produto\n",
        "\n",
        "# Programa principal\n",
        "# Processamento\n",
        "sequencia_limpa = limpar_sequencia(sequencia)\n",
        "grupo, produto = maior_produto(sequencia_limpa, tamanho=5)\n",
        "# Resultado\n",
        "print(f\"O maior produto é {produto}, obtido com os dígitos: {grupo}\")"
      ],
      "metadata": {
        "id": "-5akT-jN-dr4",
        "colab": {
          "base_uri": "https://localhost:8080/"
        },
        "outputId": "ca9dfdde-3361-4a0c-efec-b83e1b130f2b"
      },
      "execution_count": null,
      "outputs": [
        {
          "output_type": "stream",
          "name": "stdout",
          "text": [
            "O maior produto é 40824, obtido com os dígitos: 99879\n"
          ]
        }
      ]
    }
  ],
  "metadata": {
    "colab": {
      "provenance": []
    },
    "kernelspec": {
      "display_name": "Python 3",
      "language": "python",
      "name": "python3"
    },
    "language_info": {
      "codemirror_mode": {
        "name": "ipython",
        "version": 3
      },
      "file_extension": ".py",
      "mimetype": "text/x-python",
      "name": "python",
      "nbconvert_exporter": "python",
      "pygments_lexer": "ipython3",
      "version": "3.11.0 (main, Oct 24 2022, 18:26:48) [MSC v.1933 64 bit (AMD64)]"
    },
    "vscode": {
      "interpreter": {
        "hash": "c261aea317cc0286b3b3261fbba9abdec21eaa57589985bb7a274bf54d6cc0a7"
      }
    }
  },
  "nbformat": 4,
  "nbformat_minor": 0
}