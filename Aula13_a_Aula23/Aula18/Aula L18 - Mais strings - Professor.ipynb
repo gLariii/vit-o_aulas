{
  "cells": [
    {
      "cell_type": "markdown",
      "source": [
        "#**TTI103 - Lógica de Programação**\n",
        "\n",
        "#**Aula L18 - Mais strings**"
      ],
      "metadata": {
        "id": "eukAJhnq3T1T"
      }
    },
    {
      "cell_type": "markdown",
      "source": [
        "##**Exercício 01 - Manipulações simples com strings**\n",
        "\n",
        "**a)** Construa um programa em Python que troque todas as ocorrências de uma letra `L1` pela letra `L2` em uma *string* `txt`. A *string* `txt`e as letras `L1` e `L2` devem ser fornecidas pelo usuário."
      ],
      "metadata": {
        "id": "57mESXyENDjL"
      }
    },
    {
      "cell_type": "code",
      "source": [
        "# Exercício 01a\n",
        "# Entrada de dados\n",
        "txt = input('Digite a string: ')\n",
        "L1 = input('Digite a letra a ser substituída: ')\n",
        "L2 = input('Digite a letra substituta: ')\n",
        "\n",
        "# Substituição das ocorrências de letra_l1 por letra_l2 na string\n",
        "novo_txt = txt.replace(L1, L2)\n",
        "\n",
        "# Saída de dados: nova string\n",
        "print(f'O novo texto é:\\n\"{novo_txt}.\"')"
      ],
      "metadata": {
        "colab": {
          "base_uri": "https://localhost:8080/"
        },
        "id": "AOLneMzYNY77",
        "outputId": "f43fa282-0c62-4868-dde2-76e1714d544e"
      },
      "execution_count": null,
      "outputs": [
        {
          "output_type": "stream",
          "name": "stdout",
          "text": [
            "Digite a string: Hoje acordei com vontade de dormir mais!\n",
            "Digite a letra a ser substituída: o\n",
            "Digite a letra substituta: y\n",
            "O novo texto é:\n",
            "\"Hyje acyrdei cym vyntade de dyrmir mais!.\"\n"
          ]
        }
      ]
    },
    {
      "cell_type": "markdown",
      "source": [
        "**b)** Escreva um programa que leia duas palavras e diga qual deles vem primeiro na ordem\n",
        "alfabética.\n",
        "\n",
        "*Dica:* `'a'` é menor do que `'b'`."
      ],
      "metadata": {
        "id": "G-pgO4j7Ndez"
      }
    },
    {
      "cell_type": "code",
      "source": [
        "# Exercício 01b\n",
        "# Entrada de dados\n",
        "palavra1, palavra2 = input('Digite duas palavras: ').split()\n",
        "\n",
        "# Comparação lexicográfica das duas palavras\n",
        "if palavra1 < palavra2:\n",
        "    print(f'\"{palavra1}\" vem antes de \"{palavra2}\" na ordem alfabética.')\n",
        "elif palavra1 > palavra2:\n",
        "    print(f'\"{palavra2}\" vem antes de \"{palavra1}\" na ordem alfabética.')\n",
        "else:\n",
        "    print('Você digitou palavras iguais!')"
      ],
      "metadata": {
        "colab": {
          "base_uri": "https://localhost:8080/"
        },
        "id": "ki54cf-bN67b",
        "outputId": "aa01e2b3-1267-4da4-ef67-fa69823eeb84"
      },
      "execution_count": null,
      "outputs": [
        {
          "output_type": "stream",
          "name": "stdout",
          "text": [
            "Digite a primeira palavra: casa\n",
            "Digite a segunda palavra: camisa\n",
            "\"camisa\" vem antes de \"casa\" na ordem alfabética.\n"
          ]
        }
      ]
    },
    {
      "cell_type": "markdown",
      "source": [
        "**c)** Escreva um programa que leia vários números reais em uma mesma linha, e imprima a soma."
      ],
      "metadata": {
        "id": "_N5TtBNNZkHY"
      }
    },
    {
      "cell_type": "code",
      "source": [
        "# Exercício 01c\n",
        "# Entrada de dados: números reais\n",
        "numeros_str = input('Digite números reais separados por espaço: ').split()\n",
        "\n",
        "# Armazena os números reais em uma lista e soma os elementos\n",
        "soma = sum([float(numero) for numero in numeros_str])\n",
        "\n",
        "# Saída de dados: soma dos números reais\n",
        "print(f'A soma dos números é {soma}.')"
      ],
      "metadata": {
        "colab": {
          "base_uri": "https://localhost:8080/"
        },
        "id": "lGwW5F_cZwa_",
        "outputId": "a0615629-7686-4db2-ec4f-99e936ef5f79"
      },
      "execution_count": null,
      "outputs": [
        {
          "output_type": "stream",
          "name": "stdout",
          "text": [
            "Digite os números reais separados por espaço: 25 -8.54 23 0 -14 7 2 54 37 -100 98 4.21\n",
            "A soma dos números é 127.67.\n"
          ]
        }
      ]
    },
    {
      "cell_type": "markdown",
      "source": [
        "**d)** Escreva a função `insere_se_novo` de acordo com a *string* de ajuda fornecida:"
      ],
      "metadata": {
        "id": "xZx6J_JQaxVB"
      }
    },
    {
      "cell_type": "code",
      "source": [
        "def insere_se_novo(nome, lista):\n",
        "  ''' (str, list) -> int\n",
        "  Se nome estiver na lista, retorna sua posição na lista\n",
        "  Caso contrário, insere nome na lista e retorna a posição correspondente\n",
        "  IMPORTANTE: Note que a função pode alterar lista!\n",
        "  '''\n",
        "  if nome in lista:\n",
        "    return lista.index(nome)\n",
        "  else:\n",
        "    lista.append(nome)\n",
        "    return len(lista) - 1"
      ],
      "metadata": {
        "id": "rpxniP8acmmp"
      },
      "execution_count": null,
      "outputs": []
    },
    {
      "cell_type": "markdown",
      "source": [
        "Essa função devolve a posição em que o *string* `x` ocorre em lista ou, caso `x` não estiver na lista, insere `x` no final da lista e devolve o índice dessa posição. O código a seguir deve ser usado para testar sua função:"
      ],
      "metadata": {
        "id": "cgRU7VIzcp2Z"
      }
    },
    {
      "cell_type": "code",
      "source": [
        "# Codigo de teste\n",
        "lista = ['Ronaldo', 'Romário', 'Rivelino']\n",
        "pos = insere_se_novo('Romário', lista)\n",
        "print(f'Posição = {pos} e lista após função: {lista}')\n",
        "pos = insere_se_novo('Pelé', lista)\n",
        "print(f'Posição = {pos} e lista após função: {lista}')\n",
        "pos = insere_se_novo('Rivelino', lista)\n",
        "print(f'Posição = {pos} e lista após função: {lista}')"
      ],
      "metadata": {
        "colab": {
          "base_uri": "https://localhost:8080/"
        },
        "id": "Ja2xcw3Yc_ao",
        "outputId": "71a3be67-4507-49ef-a871-70cd001e22f9"
      },
      "execution_count": null,
      "outputs": [
        {
          "output_type": "stream",
          "name": "stdout",
          "text": [
            "Posição = 1 e lista após função: ['Ronaldo', 'Romário', 'Rivelino']\n",
            "Posição = 3 e lista após função: ['Ronaldo', 'Romário', 'Rivelino', 'Pelé']\n",
            "Posição = 2 e lista após função: ['Ronaldo', 'Romário', 'Rivelino', 'Pelé']\n"
          ]
        }
      ]
    },
    {
      "cell_type": "markdown",
      "source": [
        "**e)** Elabore um programa modular que leia o nome do usuário e o imprima na vertical, em forma de escada, usando apenas letras maiúsculas. Use a função `imprimir_escada`.\n",
        "\n",
        "Exemplo de uso:\n",
        "\n",
        "Nome = Vanessa\n",
        "\n",
        "Resultado gerado pelo programa:\n",
        "\n",
        "V\n",
        "\n",
        "VA\n",
        "\n",
        "VAN\n",
        "\n",
        "VANE\n",
        "\n",
        "VANES\n",
        "\n",
        "VANESS\n",
        "\n",
        "VANESSA"
      ],
      "metadata": {
        "id": "ybjQmQpq8qL3"
      }
    },
    {
      "cell_type": "code",
      "source": [
        "def imprimir_escada(nome):\n",
        "  # Converte o nome para maiúsculas\n",
        "  nome = nome.upper()\n",
        "  # Impressão em escada\n",
        "  for i in range(len(nome) + 1):\n",
        "    print(nome[:i])\n",
        "\n",
        "# Entrada de dados\n",
        "nome = input('Digite seu nome: ')\n",
        "\n",
        "# Saída de dados\n",
        "imprimir_escada(nome)"
      ],
      "metadata": {
        "colab": {
          "base_uri": "https://localhost:8080/"
        },
        "id": "S_oocSDC8rSx",
        "outputId": "60745e31-b23d-45c2-b5a6-c7f8e30fb5c4"
      },
      "execution_count": null,
      "outputs": [
        {
          "output_type": "stream",
          "name": "stdout",
          "text": [
            "Digite seu nome: Gustavo\n",
            "G\n",
            "GU\n",
            "GUS\n",
            "GUST\n",
            "GUSTA\n",
            "GUSTAV\n",
            "GUSTAVO\n"
          ]
        }
      ]
    },
    {
      "cell_type": "markdown",
      "metadata": {
        "id": "WaIyvXLa38Xo"
      },
      "source": [
        "##**Exercício 02 – Senha da biblioteca**\n",
        "\n",
        "Uma biblioteca distribui um cartão magnético para que os alunos possam frequentá-la. A senha inicial, enviada pelo correio, é gerada automaticamente a partir da data de nascimento do aluno ('dd/mm/aaaa') do seguinte modo:\n",
        "\n",
        "`mm + '$' + dd(invertido) + '#' + dd + '!' + mm(invertido) + '\\' + aaaa`\n",
        "\n",
        "Assim, se a data de nascimento é 25/10/1995, a senha será:\n",
        "\n",
        "`10$52#25!01\\1995`\n",
        "\n",
        "Escreva um programa modular que solicite ao usuário a inserção da data de nascimento no formato dd/mm/aaaa e retorne sua senha de acordo com as regras da biblioteca."
      ]
    },
    {
      "cell_type": "code",
      "execution_count": null,
      "metadata": {
        "id": "T6hD6HtbhvmY",
        "colab": {
          "base_uri": "https://localhost:8080/"
        },
        "outputId": "64ad6be4-a96d-4f86-d641-c4dec809b67b"
      },
      "outputs": [
        {
          "output_type": "stream",
          "name": "stdout",
          "text": [
            "Digite sua data de nascimento (dd/mm/aaaa): 27/02/1978\n",
            "Sua senha é 02$72#27!20\\1978\n"
          ]
        }
      ],
      "source": [
        "# Exercício 02\n",
        "\n",
        "def separar_data(data):\n",
        "  return data.split('/')\n",
        "\n",
        "def inverter_data(data):\n",
        "  separados = separar_data(data)\n",
        "  invertidos = [parte[::-1] for parte in separados]\n",
        "  return invertidos\n",
        "\n",
        "def gerar_senha(data):\n",
        "  separados = separar_data(data)\n",
        "  invertidos = inverter_data(data)\n",
        "  senha = f\"{separados[1]}${invertidos[0]}#{separados[0]}!{invertidos[1]}\\{separados[2]}\"\n",
        "  return senha\n",
        "\n",
        "# Inserção da data de nascimento\n",
        "data_nascimento = input(\"Digite sua data de nascimento (dd/mm/aaaa): \")\n",
        "\n",
        "# Geração da senha\n",
        "senha = gerar_senha(data_nascimento)\n",
        "\n",
        "# Saída de dados: senha\n",
        "print(f'Sua senha é {senha}')"
      ]
    },
    {
      "cell_type": "markdown",
      "metadata": {
        "id": "SMMs32Hih5VO"
      },
      "source": [
        "##**Exercício 03 - DNA**\n",
        "\n",
        "Construa uma função `DNA_complementar` que recebe uma *string* que representa\n",
        "uma cadeia de DNA e gera a cadeia complementar. A\n",
        "entrada e saída de dados deve ser feita pelo programa principal.\n",
        "\n",
        "Lembrando: O DNA (Ácido Desoxirribonucléico) é composto por milhões de nucleotídeos ligados uns aos outros. Separadamente, os nucleotídeos são bastante simples, consistindo de três partes diferentes:\n",
        "\n",
        "* Base nitrogenada (Adenina (A), Timina (T), Guanina (G) ou Citosina(C));\n",
        "* Desoxirribose (um açúcar de cinco carbonos);\n",
        "* Um grupamento fosfato.\n",
        "\n",
        "As bases nitrogenadas Adenina e Timina são complementares; o mesmo ocorre com Guanina e Citosina.\n",
        "\n",
        "Exemplo de uso:\n",
        "* Entrada: `AATCTGCAC`\n",
        "* Saída: `TTAGACGTG`"
      ]
    },
    {
      "cell_type": "code",
      "source": [
        "# Função DNA_complementar\n",
        "def DNA_complementar(DNA):\n",
        "  DNA = DNA.upper()\n",
        "  DNA_comp = ''\n",
        "  for base in DNA:\n",
        "    match base:\n",
        "      case 'A': DNA_comp += 'T'\n",
        "      case 'T': DNA_comp += 'A'\n",
        "      case 'G': DNA_comp += 'C'\n",
        "      case 'C': DNA_comp += 'G'\n",
        "  return DNA_comp"
      ],
      "metadata": {
        "id": "wmZLDEF4fBkB"
      },
      "execution_count": null,
      "outputs": []
    },
    {
      "cell_type": "code",
      "execution_count": null,
      "metadata": {
        "id": "LS3gBig41QyB",
        "colab": {
          "base_uri": "https://localhost:8080/"
        },
        "outputId": "3cefd5b2-88fe-43ce-a328-4be40d4f9339"
      },
      "outputs": [
        {
          "output_type": "stream",
          "name": "stdout",
          "text": [
            "Digite a sequência de DNA: AATCTGCAC\n",
            "Sequência complementar: TTAGACGTG\n"
          ]
        }
      ],
      "source": [
        "# Exercício 03\n",
        "# Entrada de dados\n",
        "DNA = input('Digite a sequência de DNA: ')\n",
        "\n",
        "# DNA complementar\n",
        "DNA_comp = DNA_complementar(DNA)\n",
        "\n",
        "# Saída de dados\n",
        "print(f'Sequência complementar: {DNA_comp}')"
      ]
    },
    {
      "cell_type": "markdown",
      "source": [
        "##**Exercício 04 - Ordenar títulos**\n",
        "\n",
        "Elabore um programa modular para ordenar uma lista de títulos de livros em ordem alfabética e deixá-los separados por vírgula.\n",
        "\n",
        "A lista de títulos é fornecida como uma *string* chamada `titulos`, onde cada título está em uma nova linha.\n",
        "\n",
        "Segue exemplo de lista:"
      ],
      "metadata": {
        "id": "war3Lk2g9tQg"
      }
    },
    {
      "cell_type": "code",
      "source": [
        "titulos = \"\"\"O Senhor dos Anéis\n",
        "Harry Potter e a Pedra Filosofal\n",
        "1984\n",
        "O Lobo da Estepe\n",
        "Cem Anos de Solidão\n",
        "A Metamorfose\n",
        "A Revolução dos Bichos\n",
        "Crime e Castigo\n",
        "Macunaíma\"\"\""
      ],
      "metadata": {
        "id": "NZb7GYVO9645"
      },
      "execution_count": null,
      "outputs": []
    },
    {
      "cell_type": "code",
      "source": [
        "# Exercício 04\n",
        "\n",
        "def ordenar_titulos(titulos):\n",
        "  # Divide a string titulos em uma lista de títulos\n",
        "  lista_titulos = titulos.split('\\n')\n",
        "  # Lista de títulos em ordem alfabética\n",
        "  lista_titulos.sort()\n",
        "  return lista_titulos\n",
        "\n",
        "def juntar_titulos(lista_titulos):\n",
        "  # Une os títulos em uma única string, separados por vírgula\n",
        "  titulos_separados_por_virgula = ', '.join(lista_titulos)\n",
        "  return titulos_separados_por_virgula\n",
        "\n",
        "# Lista de títulos\n",
        "titulos = \"\"\"O Senhor dos Anéis\n",
        "Harry Potter e a Pedra Filosofal\n",
        "1984\n",
        "O Lobo da Estepe\n",
        "Cem Anos de Solidão\n",
        "A Metamorfose\n",
        "A Revolução dos Bichos\n",
        "Crime e Castigo\n",
        "Macunaíma\"\"\"\n",
        "\n",
        "titulos_ordenados = ordenar_titulos(titulos)\n",
        "titulos_separados_por_virgula = juntar_titulos(titulos_ordenados)\n",
        "print(titulos_separados_por_virgula)"
      ],
      "metadata": {
        "colab": {
          "base_uri": "https://localhost:8080/"
        },
        "id": "645yoUoO-N1H",
        "outputId": "e5aaa125-ecaa-48dd-fd06-8fbc3a6be1c7"
      },
      "execution_count": null,
      "outputs": [
        {
          "output_type": "stream",
          "name": "stdout",
          "text": [
            "1984, A Metamorfose, A Revolução dos Bichos, Cem Anos de Solidão, Crime e Castigo, Harry Potter e a Pedra Filosofal, Macunaíma, O Lobo da Estepe, O Senhor dos Anéis\n"
          ]
        }
      ]
    },
    {
      "cell_type": "markdown",
      "source": [
        "##**Exercício 05 - Contar palavras**\n",
        "\n",
        "Você trabalha em uma biblioteca e recebeu uma lista de títulos de artigos. Sua tarefa é criar um programa modular que conte quantas vezes uma determinada palavra chave aparece nos títulos dos artigos.\n",
        "\n",
        "Um exemplo de lista de títulos é visto na célula de código a seguir. Use essa lista para testar seu código, usando como entrada a *string* `'GPT'`."
      ],
      "metadata": {
        "id": "rJslIK3M--Nr"
      }
    },
    {
      "cell_type": "code",
      "source": [
        "artigos = [\n",
        "'Recurrent GPT: Interactive Generation of (Arbitrarily) Long Text',\n",
        "'VideoLLM: Modeling Video Sequence with Large Language Models',\n",
        "'Watermarking Text Data on Large Language Models for Dataset Copyright Protection',\n",
        "'InheritSumm: A General, Versatile and Compact Summarizer by Distilling from GPT',\n",
        "'Can Large Language Models emulate an inductive Thematic Analysis of semi-structured interviews? An exploration and provocation on the limits of the approach and the model',\n",
        "'GPT SW3: An Autoregressive Language Model for the Nordic Languages',\n",
        "'The Emergence of Economic Rationality of GPT',\n",
        "'Can We Edit Factual Knowledge by In-Context Learning?',\n",
        "'G3Detector: General GPT Generated Text Detector',\n",
        "'GPT Paternity Test: GPT Generated Text Detection with GPT Genetic Inheritance'\n",
        "]"
      ],
      "metadata": {
        "id": "lHfM0-ZY_ID6"
      },
      "execution_count": null,
      "outputs": []
    },
    {
      "cell_type": "code",
      "source": [
        "def contar_palavra_em_titulos_1a_tentativa(artigos, palavra_chave):\n",
        "  contador = 0\n",
        "  for titulo in artigos:\n",
        "    titulo = titulo.lower()\n",
        "    contador += titulo.count(palavra_chave.lower())\n",
        "  return contador\n",
        "\n",
        "def contar_palavra_em_titulos(artigos, palavra_chave):\n",
        "  return sum([titulo.lower().count(palavra_chave.lower()) for titulo in artigos])\n",
        "\n",
        "# Lista de títulos dos artigos\n",
        "artigos = [\n",
        "    'Recurrent GPT: Interactive Generation of (Arbitrarily) Long Text',\n",
        "    'VideoLLM: Modeling Video Sequence with Large Language Models',\n",
        "    'Watermarking Text Data on Large Language Models for Dataset Copyright Protection',\n",
        "    'InheritSumm: A General, Versatile and Compact Summarizer by Distilling from GPT',\n",
        "    'Can Large Language Models emulate an inductive Thematic Analysis of semi-structured interviews? An exploration and provocation on the limits of the approach and the model',\n",
        "    'GPT SW3: An Autoregressive Language Model for the Nordic Languages',\n",
        "    'The Emergence of Economic Rationality of GPT',\n",
        "    'Can We Edit Factual Knowledge by In-Context Learning?',\n",
        "    'G3Detector: General GPT Generated Text Detector',\n",
        "    'GPT Paternity Test: GPT Generated Text Detection with GPT Genetic Inheritance'\n",
        "]\n",
        "\n",
        "palavra_desejada = 'GPT'\n",
        "ocorrencias = contar_palavra_em_titulos(artigos, palavra_desejada)\n",
        "print(f'A palavra \"{palavra_desejada}\" ocorre {ocorrencias} na base de dados.')"
      ],
      "metadata": {
        "colab": {
          "base_uri": "https://localhost:8080/"
        },
        "id": "FDN8S2tD_Jhv",
        "outputId": "573c2bc8-37c1-4504-d136-6cee82d7dd86"
      },
      "execution_count": null,
      "outputs": [
        {
          "output_type": "stream",
          "name": "stdout",
          "text": [
            "A palavra \"GPT\" ocorre 8 na base de dados.\n"
          ]
        }
      ]
    }
  ],
  "metadata": {
    "colab": {
      "provenance": []
    },
    "kernelspec": {
      "display_name": "Python 3",
      "language": "python",
      "name": "python3"
    },
    "language_info": {
      "codemirror_mode": {
        "name": "ipython",
        "version": 3
      },
      "file_extension": ".py",
      "mimetype": "text/x-python",
      "name": "python",
      "nbconvert_exporter": "python",
      "pygments_lexer": "ipython3",
      "version": "3.11.0 (main, Oct 24 2022, 18:26:48) [MSC v.1933 64 bit (AMD64)]"
    },
    "vscode": {
      "interpreter": {
        "hash": "c261aea317cc0286b3b3261fbba9abdec21eaa57589985bb7a274bf54d6cc0a7"
      }
    }
  },
  "nbformat": 4,
  "nbformat_minor": 0
}