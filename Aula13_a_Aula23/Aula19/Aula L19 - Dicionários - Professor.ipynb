{
  "cells": [
    {
      "cell_type": "markdown",
      "metadata": {
        "id": "PDPL77ECcuyT"
      },
      "source": [
        "#**TTI103 - Lógica de Programação**\n",
        "\n",
        "#**Aula L19 - Dicionários**"
      ]
    },
    {
      "cell_type": "code",
      "source": [
        "# Criando um dicionário\n",
        "dic = {'2345': 'João da Silva',\n",
        "       '3589': 'Vitor Alex',\n",
        "       '8760': 'Lucrécia Monteiro'}"
      ],
      "metadata": {
        "id": "JpfN7V2_YOUw"
      },
      "execution_count": null,
      "outputs": []
    },
    {
      "cell_type": "code",
      "source": [
        "# Acesso aos dados\n",
        "print(dic['3589'])\n",
        "print(dic['8760'])"
      ],
      "metadata": {
        "id": "EgRZLtnZYO6_",
        "colab": {
          "base_uri": "https://localhost:8080/"
        },
        "outputId": "cd4246f8-5e1c-44f8-9f50-ba59dff9bf9a"
      },
      "execution_count": null,
      "outputs": [
        {
          "output_type": "stream",
          "name": "stdout",
          "text": [
            "Vitor Alex\n",
            "Lucrécia Monteiro\n"
          ]
        }
      ]
    },
    {
      "cell_type": "code",
      "source": [
        "# Verificando as chaves disponíveis\n",
        "print(dic.keys())"
      ],
      "metadata": {
        "id": "s97iwVqtYQtP",
        "colab": {
          "base_uri": "https://localhost:8080/"
        },
        "outputId": "b6cba7a7-6e34-4212-c4dc-8b3d3a354967"
      },
      "execution_count": null,
      "outputs": [
        {
          "output_type": "stream",
          "name": "stdout",
          "text": [
            "dict_keys(['2345', '3589', '8760'])\n"
          ]
        }
      ]
    },
    {
      "cell_type": "code",
      "source": [
        "# Verificando os valores\n",
        "print(dic.values())"
      ],
      "metadata": {
        "id": "_VOEtp5-mcuU",
        "colab": {
          "base_uri": "https://localhost:8080/"
        },
        "outputId": "eb02d476-9769-455d-de3e-8357c7d75bcc"
      },
      "execution_count": null,
      "outputs": [
        {
          "output_type": "stream",
          "name": "stdout",
          "text": [
            "dict_values(['João da Silva', 'Vitor Alex', 'Lucrécia Monteiro'])\n"
          ]
        }
      ]
    },
    {
      "cell_type": "code",
      "source": [
        "# Juntando keys e values em uma lista de tuplas\n",
        "print(dic.items())"
      ],
      "metadata": {
        "id": "2famdALSme2D",
        "colab": {
          "base_uri": "https://localhost:8080/"
        },
        "outputId": "c2fb3b5e-5d6a-4f21-b4ef-5ae26bf11e66"
      },
      "execution_count": null,
      "outputs": [
        {
          "output_type": "stream",
          "name": "stdout",
          "text": [
            "dict_items([('2345', 'João da Silva'), ('3589', 'Vitor Alex'), ('8760', 'Lucrécia Monteiro')])\n"
          ]
        }
      ]
    },
    {
      "cell_type": "code",
      "source": [
        "# Relações de pertinência\n",
        "print('2345' in dic)\n",
        "print('4444' in dic)"
      ],
      "metadata": {
        "id": "ujbcmY8emhWL",
        "colab": {
          "base_uri": "https://localhost:8080/"
        },
        "outputId": "f08b82d2-ec9a-4085-d552-e803a21b3071"
      },
      "execution_count": null,
      "outputs": [
        {
          "output_type": "stream",
          "name": "stdout",
          "text": [
            "True\n",
            "False\n"
          ]
        }
      ]
    },
    {
      "cell_type": "code",
      "source": [
        "# Inclusão no dicionário\n",
        "dic['4444'] = 'Jorge Amado'\n",
        "print(dic)"
      ],
      "metadata": {
        "id": "pHlK-NLdmjgj",
        "colab": {
          "base_uri": "https://localhost:8080/"
        },
        "outputId": "524aa538-861a-4302-b136-bee95dbcaf88"
      },
      "execution_count": null,
      "outputs": [
        {
          "output_type": "stream",
          "name": "stdout",
          "text": [
            "{'2345': 'João da Silva', '3589': 'Vitor Alex', '8760': 'Lucrécia Monteiro', '4444': 'Jorge Amado'}\n"
          ]
        }
      ]
    },
    {
      "cell_type": "code",
      "source": [
        "# Remoção do dicionário\n",
        "del dic['8760']\n",
        "''' del exclui o elemento do dicionário, sem que possamos ter acesso\n",
        "ao valor correspondente a chave '''\n",
        "print(dic)\n",
        "\n",
        "valor = dic.pop('4444')\n",
        "''' pop, ao contrário, permite o acesso ao valor que foi excluídop '''\n",
        "print(valor)\n",
        "print(dic)"
      ],
      "metadata": {
        "id": "QKpsbzbcml7T",
        "colab": {
          "base_uri": "https://localhost:8080/"
        },
        "outputId": "d89bf765-4e9e-4ea7-d951-2a8f2c8de93d"
      },
      "execution_count": null,
      "outputs": [
        {
          "output_type": "stream",
          "name": "stdout",
          "text": [
            "{'2345': 'João da Silva', '3589': 'Vitor Alex', '4444': 'Jorge Amado'}\n"
          ]
        }
      ]
    },
    {
      "cell_type": "code",
      "source": [
        "# Criando dicionários a partir de listas\n",
        "chaves = ['a', 'b', 'c', 'd']\n",
        "valores = [23.5, -87, 56, 0.45]\n",
        "novo_dic = dict(zip(chaves, valores))\n",
        "print(novo_dic)"
      ],
      "metadata": {
        "id": "IZpiG6O3YT_i",
        "colab": {
          "base_uri": "https://localhost:8080/"
        },
        "outputId": "7b244d75-0536-4945-92cd-fcf4afcd2121"
      },
      "execution_count": null,
      "outputs": [
        {
          "output_type": "stream",
          "name": "stdout",
          "text": [
            "{'a': 23.5, 'b': -87, 'c': 56, 'd': 0.45}\n"
          ]
        }
      ]
    },
    {
      "cell_type": "code",
      "source": [
        "# Mesclando dicionários\n",
        "dicionario1 = {\"a\": 1, \"b\": 2}\n",
        "dicionario2 = {\"b\": 'Casa', \"c\": 3, \"d\": 4}\n",
        "dicionario_mesclado = {**dicionario1, **dicionario2}\n",
        "print(f'Dicionário mesclado:\\n{dicionario_mesclado}')"
      ],
      "metadata": {
        "colab": {
          "base_uri": "https://localhost:8080/"
        },
        "id": "ZgRdx6ZQtkrC",
        "outputId": "3ed9d78f-50de-4def-cf43-b46f714615cb"
      },
      "execution_count": null,
      "outputs": [
        {
          "output_type": "stream",
          "name": "stdout",
          "text": [
            "Dicionário mesclado:\n",
            "{'a': 1, 'b': 'Casa', 'c': 3, 'd': 4}\n"
          ]
        }
      ]
    },
    {
      "cell_type": "markdown",
      "source": [
        "A expressão `dict3 = {**dict1, **dict2}` é uma forma concisa e moderna do Python (a partir da versão 3.5) para mesclar dois dicionários em um novo. Vamos verificar o funcionamento do comando:\n",
        "\n",
        "* `**dict1` e `**dict2` fazem um desempacotamento dos pares chave-valor de cada dicionário;\n",
        "\n",
        "* O Python então junta esses pares dentro de um novo dicionário.\n",
        "\n",
        "* Se houver chaves duplicadas, os valores de `dict2` sobrescrevem os de `dict1`, pois `dict2` é o segundo argumento."
      ],
      "metadata": {
        "id": "lLVk6bjAtuRx"
      }
    },
    {
      "cell_type": "markdown",
      "metadata": {
        "id": "5KEQnv5Ss6ZM"
      },
      "source": [
        "##**Exercício 01 - Dicionários de listas**\n",
        "\n",
        "Escreva uma função `ordena_dic` que recebe um dicionário cujos valores são listas e devolve um novo dicionário, com as listas ordenadas. A seguir, teste sua função com os dicionários:\n",
        "\n",
        "`x = {'n1': [2, 3, 1], 'n2': [5, 1, 2], 'n3': [3, 2, 4]}`\n",
        "\n",
        "`y = {'nomes':['Gabriela', 'Jorge', 'Alvaro', 'Zulmira'],'sobrenomes':['Pontes', 'Silva', 'Arantes']}`\n"
      ]
    },
    {
      "cell_type": "code",
      "execution_count": null,
      "metadata": {
        "id": "_pz1FPEwvCSU",
        "outputId": "4f4f0f6a-9b9d-47bb-e111-1fe3df2c4d19",
        "colab": {
          "base_uri": "https://localhost:8080/"
        }
      },
      "outputs": [
        {
          "output_type": "stream",
          "name": "stdout",
          "text": [
            "{'n1': [1, 2, 3], 'n2': [1, 2, 5], 'n3': [2, 3, 4]}\n",
            "{'nomes': ['Alvaro', 'Gabriela', 'Jorge', 'Zulmira'], 'sobrenomes': ['Arantes', 'Pontes', 'Silva']}\n"
          ]
        }
      ],
      "source": [
        "# Exercício 01\n",
        "def ordena_dic_1a_tentativa(dic):\n",
        "  novo_dic = {}\n",
        "  for (chave, valor) in dic.items():\n",
        "    novo_dic[chave] = sorted(valor)\n",
        "  return novo_dic\n",
        "\n",
        "def ordena_dic(dic):\n",
        "  return {chave: sorted(valor) for (chave, valor) in dic.items()}\n",
        "\n",
        "x = {'n1': [2, 3, 1], 'n2': [5, 1, 2], 'n3': [3, 2, 4]}\n",
        "y = {'nomes':['Gabriela', 'Jorge', 'Alvaro', 'Zulmira'],\n",
        "     'sobrenomes':['Pontes', 'Silva', 'Arantes']}\n",
        "print(ordena_dic(x))\n",
        "print(ordena_dic(y))"
      ]
    },
    {
      "cell_type": "markdown",
      "metadata": {
        "id": "I5ALa5KMvcbz"
      },
      "source": [
        "##**Exercício 02 - Itens mais caros**\n",
        "\n",
        "Escreva uma função `mais_caros` que retorne os valores dos três itens mais caros de uma determinada compra em uma loja de departamentos. Cada compra é representada por um dicionário cuja chave é o item e o valor o custo associado. A seguir, teste sua função com o dicionário:\n",
        "\n",
        "`compra = {'item1': 45.50, 'item2':35, 'item3': 41.30,\n",
        "          'item4':55, 'item5':24}`"
      ]
    },
    {
      "cell_type": "code",
      "execution_count": null,
      "metadata": {
        "id": "pOJeeeQ4wasY",
        "outputId": "c3ae4161-48e0-40f3-fc2d-f49424e2f05f",
        "colab": {
          "base_uri": "https://localhost:8080/"
        }
      },
      "outputs": [
        {
          "output_type": "stream",
          "name": "stdout",
          "text": [
            "[55, 45.5, 41.3]\n"
          ]
        }
      ],
      "source": [
        "# Exercício 02\n",
        "def mais_caros(dic):\n",
        "    return sorted(dic.values(), reverse=True)[:3]\n",
        "\n",
        "compra = {'item1': 45.50, 'item2':35, 'item3': 41.30, 'item4':55, 'item5':24}\n",
        "top3 = mais_caros(compra)\n",
        "print(top3)"
      ]
    },
    {
      "cell_type": "markdown",
      "metadata": {
        "id": "02E9pK3Rw5SL"
      },
      "source": [
        "##**Exercício 03 - Média de provas**\n",
        "\n",
        "Escreva uma função `calcula_medias` que recebe uma lista de dicionários contendo o RA e as notas das provas P1 e P2 de um grupo de alunos e devolve outra lista de dicionários, contendo o RA e a média obtida nas provas. A seguir, teste sua função com o dicionário:\n",
        "\n",
        "`notas_alunos = [{'RA':'0123', 'P1':6.5, 'P2':8.5},\n",
        "                {'RA':'2189', 'P1':10.0, 'P2':6.0},\n",
        "                {'RA':'3577', 'P1':3.5, 'P2':7.0}]`"
      ]
    },
    {
      "cell_type": "code",
      "execution_count": null,
      "metadata": {
        "id": "JnvzAvTfx0rz",
        "outputId": "e42bf7d0-2c3e-4f7d-9522-faa658a51d8b",
        "colab": {
          "base_uri": "https://localhost:8080/"
        }
      },
      "outputs": [
        {
          "output_type": "stream",
          "name": "stdout",
          "text": [
            "[{'RA': '0123', 'media': 7.5}, {'RA': '2189', 'media': 8.0}, {'RA': '3577', 'media': 5.25}]\n"
          ]
        }
      ],
      "source": [
        "# Exercício 03\n",
        "def calcula_medias(lista_dic):\n",
        "    medias = []\n",
        "    for dic in lista_dic:\n",
        "        dic_media = {}\n",
        "        dic_media['RA'] = dic['RA']\n",
        "        dic_media['media'] = (dic['P1'] + dic['P2'])/2\n",
        "        medias.append(dic_media)\n",
        "    return medias\n",
        "\n",
        "notas_alunos = [{'RA':'0123', 'P1':6.5, 'P2':8.5},\n",
        "                {'RA':'2189', 'P1':10.0, 'P2':6.0},\n",
        "                {'RA':'3577', 'P1':3.5, 'P2':7.0}]\n",
        "medias_alunos = calcula_medias(notas_alunos)\n",
        "print(medias_alunos)"
      ]
    },
    {
      "cell_type": "markdown",
      "source": [
        "##**Exercício 04 - Histograma de palavras**\n",
        "\n",
        "Construa a função `hist_palavras` que recebe uma *string* `txt` e retorna um dicionário que registra a ocorrência de cada letra que compõe `txt`. Não faça distinção entre letras maiúsculas e minúsculas, nem entre letras acentuadas. Teste sua função com a entrada:\n",
        "\n",
        "`'''Minha terra tem palmeiras,\n",
        "Onde canta o Sabiá;\n",
        "As aves, que aqui gorjeiam,\n",
        "Não gorjeiam como lá.'''\n",
        "\n",
        "A seguir, pesquise como representar o resultado na forma gráfica!"
      ],
      "metadata": {
        "id": "IqRio_0Eu2op"
      }
    },
    {
      "cell_type": "code",
      "source": [
        "import unicodedata\n",
        "import matplotlib.pyplot as plt\n",
        "\n",
        "def hist_palavras(txt):\n",
        "    # Normaliza e remove acentos, transforma em minúsculas\n",
        "    txt = unicodedata.normalize('NFD', txt).encode('ascii', 'ignore').decode('utf-8').lower()\n",
        "\n",
        "    hist = {}\n",
        "    for char in txt:\n",
        "        if char.isalpha():\n",
        "            hist[char] = hist.get(char, 0) + 1\n",
        "    return dict(sorted(hist.items()))\n",
        "\n",
        "# Texto de entrada\n",
        "texto = '''Minha terra tem palmeiras,\n",
        "Onde canta o Sabiá;\n",
        "As aves, que aqui gorjeiam,\n",
        "Não gorjeiam como lá.'''\n",
        "\n",
        "# Gera o histograma\n",
        "frequencia = hist_palavras(texto)\n",
        "for (letra, ocorrencia) in frequencia.items():\n",
        "  print(f'{letra}: {ocorrencia}')\n",
        "\n",
        "# Gráfico\n",
        "plt.figure(figsize=(10, 6))\n",
        "plt.bar(frequencia.keys(), frequencia.values(), color='skyblue')\n",
        "plt.title('Frequência de letras no texto')\n",
        "plt.xlabel('Letras')\n",
        "plt.ylabel('Ocorrências')\n",
        "plt.grid(axis='y', linestyle='--', alpha=0.7)\n",
        "plt.tight_layout()\n",
        "plt.show()"
      ],
      "metadata": {
        "colab": {
          "base_uri": "https://localhost:8080/",
          "height": 875
        },
        "id": "5VegzeDOw9LP",
        "outputId": "b6e26873-fa14-4302-d494-11f3420fa155"
      },
      "execution_count": null,
      "outputs": [
        {
          "output_type": "stream",
          "name": "stdout",
          "text": [
            "a: 15\n",
            "b: 1\n",
            "c: 2\n",
            "d: 1\n",
            "e: 8\n",
            "g: 2\n",
            "h: 1\n",
            "i: 6\n",
            "j: 2\n",
            "l: 2\n",
            "m: 6\n",
            "n: 4\n",
            "o: 7\n",
            "p: 1\n",
            "q: 2\n",
            "r: 5\n",
            "s: 4\n",
            "t: 3\n",
            "u: 2\n",
            "v: 1\n"
          ]
        },
        {
          "output_type": "display_data",
          "data": {
            "text/plain": [
              "<Figure size 1000x600 with 1 Axes>"
            ],
            "image/png": "[encoded data removed]"
          },
          "metadata": {}
        }
      ]
    },
    {
      "cell_type": "markdown",
      "source": [
        "O código que construímos apresenta o comando:\n",
        "\n",
        "`txt = unicodedata.normalize('NFD', txt).encode('ascii', 'ignore').decode('utf-8').lower()`\n",
        "\n",
        "Vamos explicar seu funcionamento, passo-a-passo:\n",
        "\n",
        "🔹 `unicodedata.normalize('NFD', txt)` tem como objetivo decompor os caracteres acentuados.\n",
        "\n",
        "- Exemplo: transforma `'á'` em `'a'` + `'́´'` (letra + acento).\n",
        "\n",
        "- `'NFD'` significa *Normalization Form Decomposed*.\n",
        "\n",
        "🔹 `.encode('ascii', 'ignore')` codifica o texto para ASCII, ignorando qualquer caractere que não esteja no alfabeto básico (A-Z, a-z). Isso remove os acentos que foram separados na etapa anterior.\n",
        "\n",
        "- Exemplo: `'á'` + `'´'`  (a + acento) vira apenas `'a'`.\n",
        "\n",
        "🔹 `.decode('utf-8')` converte de volta para *string* legível em Python, uma vez que, após `.encode(...)`, a informação está em bytes. Esse passo transforma novamente em `string`.\n",
        "\n",
        "🔹 `.lower()` converte tudo para minúsculas, faciltndo a contagem de ocorrências. Isso garante, por exemplo, que `'A'` e `'a'` sejam tratados como a mesma letra.\n",
        "\n",
        "✅ Resultado: O texto está sem acentos, todo em letras minúsculas e pronto para análise de frequência de letras.\n",
        "\n",
        "Também usamos `hist.get(char, 0)`. Esse método tenta obter o valor da chave `char` (ou seja, quantas vezes a letra já apareceu). Se a chave não existir ainda, ele retorna `0` como valor padrão. Assim, evitamos erros do tipo `KeyError`."
      ],
      "metadata": {
        "id": "De-lfSG5xFj4"
      }
    },
    {
      "cell_type": "markdown",
      "source": [
        "##**Exercício 04 - Histograma de palavras**\n",
        "\n",
        "No exercício anterior, criamos um dicionário que mapeia as ocorrências de cada letra presente em um texto. Também é de interesse um dicionário que faça o \"inverso\", ou seja, um um dicionário que mapeie de frequências (chaves) a letras (valores). Como pode haver várias letras com a mesma frequência, cada valor no dicionário invertido deve ser uma lista de letras.\n",
        "\n",
        "Crie uma função `inverter histograma` que recebe um histograma de frequência de letras e o mapeia de forma invertida, levando frequências à valores. Teste sua função com o mesmo texto do exercício anteriror."
      ],
      "metadata": {
        "id": "wwI0_umjzrQf"
      }
    },
    {
      "cell_type": "code",
      "source": [
        "def inverter_histograma(hist):\n",
        "    invertido = {}\n",
        "    for letra, freq in sorted(hist.items(), key=lambda item: item[1]):\n",
        "        if freq not in invertido:\n",
        "            invertido[freq] = []\n",
        "        invertido[freq].append(letra)\n",
        "    return invertido\n",
        "\n",
        "texto = '''Minha terra tem palmeiras,\n",
        "Onde canta o Sabiá;\n",
        "As aves, que aqui gorjeiam,\n",
        "Não gorjeiam como lá.'''\n",
        "\n",
        "# Calcula frequência de letras\n",
        "hist = hist_palavras(texto)\n",
        "\n",
        "# Inverte o histograma\n",
        "invertido = inverter_histograma(hist)\n",
        "\n",
        "# Exibe o dicionário invertido ordenado por frequência\n",
        "for freq, letras in invertido.items():\n",
        "    print(f'{freq}: {sorted(letras)}')"
      ],
      "metadata": {
        "colab": {
          "base_uri": "https://localhost:8080/"
        },
        "id": "Lmj7EwBT1OYk",
        "outputId": "e5353d79-f4af-4f6f-ac47-cfededd2fbf4"
      },
      "execution_count": null,
      "outputs": [
        {
          "output_type": "stream",
          "name": "stdout",
          "text": [
            "1: ['b', 'd', 'h', 'p', 'v']\n",
            "2: ['c', 'g', 'j', 'l', 'q', 'u']\n",
            "3: ['t']\n",
            "4: ['n', 's']\n",
            "5: ['r']\n",
            "6: ['i', 'm']\n",
            "7: ['o']\n",
            "8: ['e']\n",
            "15: ['a']\n"
          ]
        }
      ]
    }
  ],
  "metadata": {
    "colab": {
      "provenance": []
    },
    "kernelspec": {
      "display_name": "Python 3",
      "language": "python",
      "name": "python3"
    },
    "language_info": {
      "codemirror_mode": {
        "name": "ipython",
        "version": 3
      },
      "file_extension": ".py",
      "mimetype": "text/x-python",
      "name": "python",
      "nbconvert_exporter": "python",
      "pygments_lexer": "ipython3",
      "version": "3.11.3"
    },
    "vscode": {
      "interpreter": {
        "hash": "c261aea317cc0286b3b3261fbba9abdec21eaa57589985bb7a274bf54d6cc0a7"
      }
    }
  },
  "nbformat": 4,
  "nbformat_minor": 0
}