{
  "nbformat": 4,
  "nbformat_minor": 0,
  "metadata": {
    "colab": {
      "provenance": []
    },
    "kernelspec": {
      "name": "python3",
      "display_name": "Python 3"
    },
    "language_info": {
      "name": "python"
    }
  },
  "cells": [
    {
      "cell_type": "markdown",
      "source": [
        "#**TTI103 - Lógica de Programação**\n",
        "\n",
        "#**Aula Extra - Um pouco mais sobre listas**"
      ],
      "metadata": {
        "id": "nZUyxKuZlnTn"
      }
    },
    {
      "cell_type": "markdown",
      "source": [
        "##**Exercício 01**\n",
        "Escreva um programa em Python para remover duplicatas de uma lista."
      ],
      "metadata": {
        "id": "qULeFgl_UdD-"
      }
    },
    {
      "cell_type": "code",
      "source": [
        "# Exercício 01\n",
        "\n",
        "# Lista original com duplicatas\n",
        "lista_original = [1, 2, 2, 3, 4, 'maçã', 4, 5, 1, 6, 'uva',\n",
        "                  10, 15, 10, 25, 'maçã', 20, 20, 15]\n",
        "\n",
        "# Lista que vai armazenar os itens únicos\n",
        "lista_sem_duplicatas = []\n",
        "\n",
        "# Loop para adicionar apenas os itens que ainda não estão na nova lista\n",
        "for item in lista_original:\n",
        "    if item not in lista_sem_duplicatas:\n",
        "        lista_sem_duplicatas.append(item)\n",
        "\n",
        "# Exibição dos resultados\n",
        "print(f'Lista original: {lista_original}')\n",
        "print(f'\\nLista sem duplicatas: {lista_sem_duplicatas}')"
      ],
      "metadata": {
        "colab": {
          "base_uri": "https://localhost:8080/"
        },
        "id": "IAWRGYgpVPpO",
        "outputId": "49aff2f8-3864-45fa-dd4b-a067e87b82e4"
      },
      "execution_count": null,
      "outputs": [
        {
          "output_type": "stream",
          "name": "stdout",
          "text": [
            "Lista original: [1, 2, 2, 3, 4, 'maçã', 4, 5, 1, 6, 'uva', 10, 15, 10, 25, 'maçã', 20, 20, 15]\n",
            "\n",
            "Lista sem duplicatas: [1, 2, 3, 4, 'maçã', 5, 6, 'uva', 10, 15, 25, 20]\n"
          ]
        }
      ]
    },
    {
      "cell_type": "markdown",
      "source": [
        "##**Exercício 02**\n",
        "\n"
      ],
      "metadata": {
        "id": "UawS72z_VOn7"
      }
    },
    {
      "cell_type": "markdown",
      "source": [
        "Escreva um programa em Python que exiba os elementos comuns em duas listas, que podem ter tamanhos diferentes."
      ],
      "metadata": {
        "id": "XxdYJfUiYpiD"
      }
    },
    {
      "cell_type": "code",
      "source": [
        "# Exercício 02\n",
        "\n",
        "# Listas para teste\n",
        "lista1 = [1, 2, 2, 3, 'uva', 4, 5, 5, 6]\n",
        "lista2 = [5, 5, 'morango', 3, 3, 9, 1, 10, 'uva', 3, 6]\n",
        "\n",
        "# Lista com itens comuns a ambas as listas\n",
        "comuns = []\n",
        "\n",
        "for item in lista1:\n",
        "    if item in lista2 and item not in comuns:\n",
        "        comuns.append(item)\n",
        "\n",
        "# Exibição dos resultados\n",
        "print(f'Lista 1 = {lista1}')\n",
        "print(f'\\nLista 2 = {lista2}')\n",
        "print(f'\\nElementos comuns = {comuns}')"
      ],
      "metadata": {
        "colab": {
          "base_uri": "https://localhost:8080/"
        },
        "id": "hmF9yRlLZltr",
        "outputId": "99ad56b3-fe80-48ab-b1e4-228d53753413"
      },
      "execution_count": null,
      "outputs": [
        {
          "output_type": "stream",
          "name": "stdout",
          "text": [
            "Lista 1 = [1, 2, 2, 3, 'uva', 4, 5, 5, 6]\n",
            "\n",
            "Lista 2 = [5, 5, 'morango', 3, 3, 9, 1, 10, 'uva', 3, 6]\n",
            "\n",
            "Elementos comuns = [1, 3, 'uva', 5, 6]\n"
          ]
        }
      ]
    },
    {
      "cell_type": "markdown",
      "source": [
        "##**Exercício 03**\n",
        "\n",
        "Escreva um programa em Python que exibe os elementos diferentes entre duas listas, ou seja, aqueles elementos que estão em uma lista, mas não estão na outra, sem repetição."
      ],
      "metadata": {
        "id": "pP28YB9EbdzF"
      }
    },
    {
      "cell_type": "code",
      "source": [
        "# Exercício 03\n",
        "\n",
        "# Duas listas com possíveis elementos repetidos\n",
        "lista1 = [1, 2, 3, 4, 5, 'abacaxi', 'pera']\n",
        "lista2 = [4, 5, 6, 'uva', 'pera', 7, 8]\n",
        "\n",
        "# Lista para guardar os elementos diferentes\n",
        "diferentes = []\n",
        "\n",
        "# Adiciona elementos que estão em lista1 mas não em lista2\n",
        "for item in lista1:\n",
        "    if item not in lista2 and item not in diferentes:\n",
        "        diferentes.append(item)\n",
        "\n",
        "# Adiciona elementos que estão em lista2 mas não em lista1\n",
        "for item in lista2:\n",
        "    if item not in lista1 and item not in diferentes:\n",
        "        diferentes.append(item)\n",
        "\n",
        "# Exibição dos resultados\n",
        "print(f'Lista 1 = {lista1}')\n",
        "print(f'\\nLista 2 = {lista2}')\n",
        "print(f'\\nElementos diferentes entre as duas listas = {diferentes}')"
      ],
      "metadata": {
        "colab": {
          "base_uri": "https://localhost:8080/"
        },
        "id": "5L3VBfrmeQCC",
        "outputId": "328d152d-f22c-46eb-fc16-35e7ef0834eb"
      },
      "execution_count": null,
      "outputs": [
        {
          "output_type": "stream",
          "name": "stdout",
          "text": [
            "Lista 1 = [1, 2, 3, 4, 5, 'abacaxi', 'pera']\n",
            "\n",
            "Lista 2 = [4, 5, 6, 'uva', 'pera', 7, 8]\n",
            "\n",
            "Elementos diferentes entre as duas listas = [1, 2, 3, 'abacaxi', 6, 'uva', 7, 8]\n"
          ]
        }
      ]
    },
    {
      "cell_type": "markdown",
      "source": [
        "##**Exercício 04**\n",
        "\n",
        "Uma *shallow list* (lista rasa) é uma lista que contém sublistas simples, sem níveis profundos de aninhamento. Por exemplo:\n",
        "\n",
        "`lista = [[1, 2, 'amarelo'], [3, 4], ['vermelho', 5, 6]]`\n",
        "\n",
        "Muitas vezes, deeja-se \"achatar\" uma lista rasa, ou seja, transformar uma lista de listas em uma lista única com todos os elementos (*flat list*).\n",
        "\n",
        "Escreva um programa Python que transforme uma lista rasa (*shallow list*) em uma lista simples."
      ],
      "metadata": {
        "id": "N5oJbm34UId_"
      }
    },
    {
      "cell_type": "code",
      "source": [
        "# Exercício 04\n",
        "\n",
        "# Lista rasa para teste\n",
        "lista = [[1, 2, 'amarelo'], [3, 4], ['vermelho', 5, 6]]\n",
        "\n",
        "# Iniciando a lista simples\n",
        "lista_flat = []\n",
        "\n",
        "# Laço para \"acahatamento\" da lista\n",
        "for sublista in lista:\n",
        "    for item in sublista:\n",
        "        lista_flat.append(item)\n",
        "\n",
        "# Exibição dos resultados\n",
        "print(f'Lista original = {lista}')\n",
        "print(f'\\nLista achatada = {lista_flat}')\n",
        "\n",
        "# **** Novo caso de análise ****\n",
        "# Lista rasa para teste\n",
        "lista = [[1, 2, 'amarelo'], [3, 4], ['vermelho', 5, 6], 'azul', 45]\n",
        "\n",
        "# Iniciando a lista simples\n",
        "lista_flat = []\n",
        "\n",
        "# Laço para \"acahatamento\" da lista\n",
        "for sublista in lista:\n",
        "  if type(sublista) is list:\n",
        "    for item in sublista:\n",
        "        lista_flat.append(item)\n",
        "  else:\n",
        "    lista_flat.append(sublista)\n",
        "\n",
        "# Exibição dos resultados\n",
        "print(f'\\nLista original = {lista}')\n",
        "print(f'\\nLista achatada = {lista_flat}')"
      ],
      "metadata": {
        "colab": {
          "base_uri": "https://localhost:8080/"
        },
        "id": "a4WCsdDAfMmC",
        "outputId": "57ae77a6-2088-46a8-98c4-bbe1823cb68b"
      },
      "execution_count": 2,
      "outputs": [
        {
          "output_type": "stream",
          "name": "stdout",
          "text": [
            "Lista original = [[1, 2, 'amarelo'], [3, 4], ['vermelho', 5, 6]]\n",
            "\n",
            "Lista achatada = [1, 2, 'amarelo', 3, 4, 'vermelho', 5, 6]\n",
            "\n",
            "Lista original = [[1, 2, 'amarelo'], [3, 4], ['vermelho', 5, 6], 'azul', 45]\n",
            "\n",
            "Lista achatada = [1, 2, 'amarelo', 3, 4, 'vermelho', 5, 6, 'azul', 45]\n"
          ]
        }
      ]
    },
    {
      "cell_type": "markdown",
      "source": [
        "##**Exercício 05**\n",
        "Remover valores `None` de uma lista em Python é uma tarefa comum ao limpar ou processar dados. Esse processo ajuda a filtrar elementos indesejados, deixando apenas os valores significativos na lista para uso posterior. Escreva um programa que elimine todos os valores `None`de uma lista."
      ],
      "metadata": {
        "id": "DsYPUeEavoOA"
      }
    },
    {
      "cell_type": "code",
      "source": [
        "# Exercício 05\n",
        "\n",
        "# Lista com valores None\n",
        "lista_original = [1, None, 3, None, 5, 0, -15, None, None, 3, 5,\n",
        "                  10, 3.5, 2.71, None, 12]\n",
        "\n",
        "# List comprehension para eliminação dos valores None\n",
        "nova_lista = [elemento for elemento in lista_original if elemento is not None]\n",
        "\n",
        "# Exibição dos resultados\n",
        "print(f'Lista original = {lista_original}')\n",
        "print(f'\\nLista sem elementos None = {nova_lista}')"
      ],
      "metadata": {
        "colab": {
          "base_uri": "https://localhost:8080/"
        },
        "id": "Hboc0CSWwBrC",
        "outputId": "1e3046c9-2295-4778-9222-c647f1bc3847"
      },
      "execution_count": null,
      "outputs": [
        {
          "output_type": "stream",
          "name": "stdout",
          "text": [
            "Lista original = [1, None, 3, None, 5, 0, -15, None, None, 3, 5, 10, 3.5, 2.71, None, 12]\n",
            "\n",
            "Lista sem elementos None = [1, 3, 5, 0, -15, 3, 5, 10, 3.5, 2.71, 12]\n"
          ]
        }
      ]
    },
    {
      "cell_type": "markdown",
      "source": [
        "##**Exercício 06**\n",
        "Modifique o programa anterior para substituir os valores `None` pela média dos demais valores. Essa é uma operação bastante comum em Ciência de Dados."
      ],
      "metadata": {
        "id": "VxeIG0TVwniw"
      }
    },
    {
      "cell_type": "code",
      "source": [
        "# Exercício 06\n",
        "\n",
        "# Lista com valores None\n",
        "lista_original = [1, None, 3, None, 5, 0, -15, None, None, 3, 5,\n",
        "                  10, 3.5, 2.71, None, 12]\n",
        "\n",
        "# Filtrando apenas os números da lista para calcular a média\n",
        "valores = [elemento for elemento in lista_original if elemento is not None]\n",
        "\n",
        "# Calculando a média e arredondando para duas casas decimais\n",
        "media = round(sum(valores) / len(valores), 2)\n",
        "\n",
        "# Substituindo os None pela média na lista original\n",
        "nova_lista = [elemento if elemento is not None else media for elemento in lista_original]\n",
        "\n",
        "# Exibindo a nova lista\n",
        "print(f'Lista original = {lista_original}')\n",
        "print(f'\\nLista com None substituído pela média = {nova_lista}')\n"
      ],
      "metadata": {
        "id": "6OtsLRZyxROp",
        "colab": {
          "base_uri": "https://localhost:8080/"
        },
        "outputId": "f3ff67ef-5c6f-4ed7-a3ae-dff5337db2cb"
      },
      "execution_count": null,
      "outputs": [
        {
          "output_type": "stream",
          "name": "stdout",
          "text": [
            "Lista original = [1, None, 3, None, 5, 0, -15, None, None, 3, 5, 10, 3.5, 2.71, None, 12]\n",
            "\n",
            "Lista com None substituído pela média = [1, 2.75, 3, 2.75, 5, 0, -15, 2.75, 2.75, 3, 5, 10, 3.5, 2.71, 2.75, 12]\n"
          ]
        }
      ]
    },
    {
      "cell_type": "markdown",
      "source": [
        "##**Exercício 07**\n",
        "O **Crivo de Eratóstenes** é um algoritmo eficiente para encontrar todos os números primos até um determinado número $n$. O algoritmo elimina os múltiplos de números primos sucessivos, começando pelo 2, ao executar os seguintes passos:\n",
        "\n",
        "1. Crie uma lista de números de 2 até $n$.\n",
        "\n",
        "2. Comece com o primeiro número da lista (2), marque ele como primo e elimine todos os seus múltiplos.\n",
        "\n",
        "3. Passe para o próximo número não eliminado e marque como primo, e então elimine todos os seus múltiplos.\n",
        "\n",
        "4. Repita o processo até que você tenha verificado até $\\sqrt(n)$ (pois múltiplos maiores já terão sido eliminados por números menores).\n",
        "\n",
        "Veja um exemplo com o número $n=30$:\n",
        "\n",
        "* Comece com a lista de números de 2 até 30:\n",
        "\n",
        "`[2, 3, 4, 5, 6, 7, 8, 9, 10, 11, 12, 13, 14, 15, 16, 17, 18, 19, 20, 21, 22, 23, 24, 25, 26, 27, 28, 29, 30]`\n",
        "\n",
        "* O primeiro número é 2, então marque 2 como primo e elimine todos os múltiplos de 2 (exceto o próprio 2):\n",
        "\n",
        "`[2, 3, X, 5, X, 7, X, 9, X, 11, X, 13, X, 15, X, 17, X, 19, X, 21, X, 23, X, 25, X, 27, X, 29, X]`\n",
        "\n",
        "* O próximo número não eliminado é 3, então marque 3 como primo e elimine todos os múltiplos de 3 (exceto o próprio 3):\n",
        "\n",
        "`[2, 3, X, 5, X, 7, X, 9, X, 11, X, 13, X, 15, X, 17, X, 19, X, 21, X, 23, X, 25, X, 27, X, 29, X]`\n",
        "\n",
        "* O próximo número não eliminado é 5, marque 5 como primo e elimine todos os múltiplos de 5 (exceto o próprio 5):\n",
        "\n",
        "`[2, 3, X, 5, X, 7, X, 9, X, 11, X, 13, X, 15, X, 17, X, 19, X, 21, X, 23, X, 25, X, 27, X, 29, X]`\n",
        "\n",
        "* O próximo número não eliminado é 7, marque 7 como primo e elimine todos os múltiplos de 7 (exceto o próprio 7):\n",
        "\n",
        "`[2, 3, X, 5, X, 7, X, 9, X, 11, X, 13, X, 15, X, 17, X, 19, X, X, X, 23, X, 25, X, 27, X, 29, X]`\n",
        "\n",
        "* Continue até encontrar todos os números primos até 30.\n",
        "\n",
        "* Resultado:\n",
        "\n",
        "`[2, 3, 5, 7, 11, 13, 17, 19, 23, 29]`"
      ],
      "metadata": {
        "id": "Cyj6V9zBu1SJ"
      }
    },
    {
      "cell_type": "code",
      "source": [
        "# Exercício 06\n",
        "\n",
        "\n",
        "# Valor de n\n",
        "n = int(input('Digite o inteiro n para determinar os primos de 2 até n: '))\n",
        "\n",
        "# Lista de booleanos de tamanho n+1 (para números de 0 a n)\n",
        "primos = [True] * (n + 1)\n",
        "primos[0], primos[1] = False, False  # 0 e 1 não são primos\n",
        "print(f'\\nLista inicial: True = primo, False = não é primo:\\n{primos}')\n",
        "\n",
        "# Crivo de Eratóstenes: múltiplos de números primos são marcados como False\n",
        "for i in range(2, int(n**0.5) + 1):\n",
        "    if primos[i]:  # Se i for primo\n",
        "        for j in range(i * i, n + 1, i):  # Elimine os múltiplos de i\n",
        "            primos[j] = False\n",
        "\n",
        "'''Por que i * i na linha for j in range(i * i, n + 1, i) e não i * 2?\n",
        "Quando estamos marcando os múltiplos de i como não primos:\n",
        "*Todos os múltiplos menores que i * i já foram eliminados por crivos anteriores.\n",
        "* Ou seja, se i = 5, então 2, 3 e 4 já eliminaram 5*2 = 10, 5*3 = 15,\n",
        "5*4 = 20 e assim por diante.\n",
        "Então começamos de i * i para evitar trabalho desnecessário.'''\n",
        "\n",
        "# Crie a lista de números primos\n",
        "primos_lista = [i for i in range(2, n + 1) if primos[i]]\n",
        "\n",
        "# Exiba os números primos\n",
        "print(f'\\nNúmeros primos até {n}:\\n{primos_lista}')"
      ],
      "metadata": {
        "id": "2SVcUhc9xicS",
        "colab": {
          "base_uri": "https://localhost:8080/"
        },
        "outputId": "e5d101cb-a8d8-4294-dbac-b9b162d9dcb1"
      },
      "execution_count": null,
      "outputs": [
        {
          "output_type": "stream",
          "name": "stdout",
          "text": [
            "Digite o inteiro n para determinar os primos de 2 até n: 45\n",
            "\n",
            "Lista inicial: True = primo, False = não é primo:\n",
            "[False, False, True, True, True, True, True, True, True, True, True, True, True, True, True, True, True, True, True, True, True, True, True, True, True, True, True, True, True, True, True, True, True, True, True, True, True, True, True, True, True, True, True, True, True, True]\n",
            "\n",
            "Números primos até 45:\n",
            "[2, 3, 5, 7, 11, 13, 17, 19, 23, 29, 31, 37, 41, 43]\n"
          ]
        }
      ]
    }
  ]
}