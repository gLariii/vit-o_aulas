{
  "nbformat": 4,
  "nbformat_minor": 0,
  "metadata": {
    "colab": {
      "provenance": []
    },
    "kernelspec": {
      "name": "python3",
      "display_name": "Python 3"
    },
    "language_info": {
      "name": "python"
    }
  },
  "cells": [
    {
      "cell_type": "markdown",
      "source": [
        "#**TTI103 - Lógica de Programação**\n",
        "\n",
        "#**Aula L12 - Estruturas de Repetição 01**"
      ],
      "metadata": {
        "id": "oNAE5ZPfjt3g"
      }
    },
    {
      "cell_type": "markdown",
      "source": [
        "#**Estruturas de repetição no Python**\n",
        "\n",
        "* Estrutura Enquanto-Faça: no Python, é implementada pela instrução `while` e possui a seguinte sintaxe:"
      ],
      "metadata": {
        "id": "kahb9Oa-G6OF"
      }
    },
    {
      "cell_type": "code",
      "source": [
        "# Estrutura Enquanto-Faça\n",
        "while <condição>:\n",
        "  <comandos a serem repetidos>"
      ],
      "metadata": {
        "id": "ahmYsSzGoYXT"
      },
      "execution_count": null,
      "outputs": []
    },
    {
      "cell_type": "markdown",
      "source": [
        "* Estrutura Para-até-Faça: no Python, é implementada pelo comando `for`. Em algumas linguagens de programação como C e Java, o\n",
        "comando `for` é utilizado em conjunto com uma variável do tipo inteiro (ou outra enumerável), que funciona como um contador que controla a quantidade de vezes que o laço será repetido. No Python, o comando `for` só funciona com tipos de dados que permitem iterações (chamados iteráveis) e o tipo inteiro não possui essa característica. Assim, a sintaxe do comando `for` em Python tem a forma:\n"
      ],
      "metadata": {
        "id": "jzFoqxDTqEoM"
      }
    },
    {
      "cell_type": "code",
      "source": [
        "for <item> in <conjunto de itens>:\n",
        "  <comandos a serem repetidos>"
      ],
      "metadata": {
        "id": "YobZcwikollk"
      },
      "execution_count": null,
      "outputs": []
    },
    {
      "cell_type": "markdown",
      "source": [
        "#**Laços para percorrer os elementos de uma lista**\n",
        "\n",
        "Para ilustrar as formas mais usuais de percorrer os elementos de uma lista, vamos utilizar a lista que contém os anos de obtenção das cinco conquistas do Brasil em Copas do Mundo de Futebol até o momento (já usada na Aula L9)."
      ],
      "metadata": {
        "id": "xAvp_AHNKrMb"
      }
    },
    {
      "cell_type": "code",
      "source": [
        "anos_conquistas = [1958, 1962, 1970, 1994, 2002]\n",
        "print(anos_conquistas)"
      ],
      "metadata": {
        "colab": {
          "base_uri": "https://localhost:8080/"
        },
        "id": "njI5JPw1qFe9",
        "outputId": "028cc5ca-26e1-4bfb-e6cf-bad95999a11b"
      },
      "execution_count": null,
      "outputs": [
        {
          "output_type": "stream",
          "name": "stdout",
          "text": [
            "[1958, 1962, 1970, 1994, 2002]\n"
          ]
        }
      ]
    },
    {
      "cell_type": "markdown",
      "source": [
        "Como já sabemos, é possível usar uma variável inteira para indicar a posição do elemento na lista. Assim, podemos usar a seguinte construção com a estrutura `while`para percorrer os elementos da lista `anos_conquistas`:"
      ],
      "metadata": {
        "id": "N8LfEuRuqTYT"
      }
    },
    {
      "cell_type": "code",
      "source": [
        "i = 0\n",
        "while i < len(anos_conquistas):\n",
        "  print(anos_conquistas[i])\n",
        "  i += 1"
      ],
      "metadata": {
        "id": "3a6c9vxfqzHk",
        "colab": {
          "base_uri": "https://localhost:8080/"
        },
        "outputId": "7b69c691-68f0-4c43-8798-2986b7edfd31"
      },
      "execution_count": null,
      "outputs": [
        {
          "output_type": "stream",
          "name": "stdout",
          "text": [
            "1958\n",
            "1962\n",
            "1970\n",
            "1994\n",
            "2002\n"
          ]
        }
      ]
    },
    {
      "cell_type": "markdown",
      "source": [
        "Na célula acima, observe que a variável `i` recebe o valor zero que corresponde ao primeiro índice e, enquanto o índice for menor que o comprimento da lista (`= len(anos_conquistas)`), o elemento de índice `i` é impresso.\n",
        "\n",
        "Se optarmos por usar a estrutura `for`, podemos usar a sintaxe:"
      ],
      "metadata": {
        "id": "Z4yaQTA-rFp8"
      }
    },
    {
      "cell_type": "code",
      "source": [
        "for i in range(len(anos_conquistas)):\n",
        "  print(anos_conquistas[i])"
      ],
      "metadata": {
        "colab": {
          "base_uri": "https://localhost:8080/"
        },
        "id": "DpV7auuXu4xQ",
        "outputId": "6700b866-336c-495c-abd1-288ccdcaf249"
      },
      "execution_count": null,
      "outputs": [
        {
          "output_type": "stream",
          "name": "stdout",
          "text": [
            "1958\n",
            "1962\n",
            "1970\n",
            "1994\n",
            "2002\n"
          ]
        }
      ]
    },
    {
      "cell_type": "markdown",
      "source": [
        "A série retornada pelo comando `range(len(lista))` é um objeto iterável do tipo `range` e os elementos nela contidos serão gerados sob demanda durante o for, evitando o desperdício de memória.\n",
        "\n",
        "Além disso, note que não há a necessidade de:\n",
        "\n",
        "* inicializar o valor da variável de índice `i` (com `while`, foi preciso usar `i = 0` antes da estrutura de repetição);\n",
        "\n",
        "* atualizar o valor da variável de índice `i` (com `while`, foi preciso usar `i += 1` dentro da estrutura de repetição).\n",
        "\n",
        "O Python possui ainda uma segunda sintaxe mais compacta que pode ser empregada para acessar diretamente os elementos de uma lista sem mencionar explicitamente os seus índices."
      ],
      "metadata": {
        "id": "jYbkj4wtvCSE"
      }
    },
    {
      "cell_type": "code",
      "source": [
        "for ano in anos_conquistas:\n",
        "  print(ano)"
      ],
      "metadata": {
        "colab": {
          "base_uri": "https://localhost:8080/"
        },
        "id": "XHyuikVfw-z_",
        "outputId": "48e6777d-10ef-479c-fdfe-d438bdf31368"
      },
      "execution_count": null,
      "outputs": [
        {
          "output_type": "stream",
          "name": "stdout",
          "text": [
            "1958\n",
            "1962\n",
            "1970\n",
            "1994\n",
            "2002\n"
          ]
        }
      ]
    },
    {
      "cell_type": "markdown",
      "source": [
        "#**Exercício 01**\n",
        "\n",
        "Elabore um programa Python que exiba todos os números pares entre zero e um número `N` fornecido pelo usuário.\n",
        "\n",
        "**Requisito:** Certifique-se de que o usuário tenha digitado um número positivo, inteiro ou real. Pense em qual caso engloba o outro!"
      ],
      "metadata": {
        "id": "OEpCn6S3sLls"
      }
    },
    {
      "cell_type": "code",
      "source": [
        "# Exercício 01\n",
        "# Validação de entrada (N número positivo)\n",
        "ok = False\n",
        "while not ok:\n",
        "  try:\n",
        "    N = float(input('Digite um número positivo (N): '))\n",
        "    if N > 0:\n",
        "      ok = True\n",
        "    else:\n",
        "      print('ERRO: O número N deve ser positivo!')\n",
        "  except:\n",
        "    print('ERRO: Você deve digitar um NÚMERO positivo!')\n",
        "N = int(N)\n",
        "\n",
        "# Impressão dos números pares entre 0 e N\n",
        "print(f'\\nNúmeros pares entre 0 e {N}:')\n",
        "par = 0\n",
        "while par <= N:\n",
        "  print(par)\n",
        "  par += 2"
      ],
      "metadata": {
        "id": "hzNxMzS3z9cX"
      },
      "execution_count": null,
      "outputs": []
    },
    {
      "cell_type": "code",
      "source": [
        "# 1ª Solução alternativa: for e listas\n",
        "N = 16\n",
        "pares = []\n",
        "for i in range(0, N+1, 2):\n",
        "  pares.append(i)\n",
        "print(pares)"
      ],
      "metadata": {
        "id": "B_LJKkU25K1S"
      },
      "execution_count": null,
      "outputs": []
    },
    {
      "cell_type": "code",
      "source": [
        "# 2ª Solução alternativa: list comprehensions\n",
        "pares = [i for i in range(0, N+1, 2)]\n",
        "print(pares)"
      ],
      "metadata": {
        "id": "HSRgAoxb5NDS"
      },
      "execution_count": null,
      "outputs": []
    },
    {
      "cell_type": "code",
      "source": [
        "# Crie uma lista com os N primeiros quadrados\n",
        "N = 10\n",
        "quadrados = [num**2 for num in range(1, N+1)]\n",
        "print(quadrados)"
      ],
      "metadata": {
        "id": "ePXBj8xJUChm"
      },
      "execution_count": null,
      "outputs": []
    },
    {
      "cell_type": "markdown",
      "source": [
        "#**Exercício 02**\n",
        "\n",
        "Elabore um programa Python que calcule e exiba o valor da série $S$ a partir de $x$ e $n$ fornecidos pelo usuário:\n",
        "\n",
        "$$S=\\ln x+x+\\frac{x^2}{2}+\\frac{x^3}{3}+\\cdots+\\frac{x^n}{n}$$\n",
        "\n",
        "**Requisitos:**\n",
        "* Uma vez que a série envolve a função $\\ln x$, devems garantir que $x>0$.\n",
        "* $n$ é um inteiro positivo. Assim, ainda que o usuário tenha fornecido um valor real, o programa deve convertê-lo para o tipo inteiro, usando o comando `int()`.\n",
        "* O valor da série deve ser exibido com precisão de três casas decimais.\n",
        "\n"
      ],
      "metadata": {
        "id": "KaEOD61l1HCQ"
      }
    },
    {
      "cell_type": "code",
      "source": [
        "# Exercício 02\n",
        "# log(x) representa o logaritmo natural de x (na base e =~ 2,71828 - Número de Euler)\n",
        "from math import log\n",
        "\n",
        "# Validação de entrada para x\n",
        "ok = False\n",
        "while not ok:\n",
        "  try:\n",
        "    x = float(input('\\nDigite um número positivo (x): '))\n",
        "    if x > 0:\n",
        "      ok = True\n",
        "    else:\n",
        "      print('ERRO: O número x deve ser positivo!')\n",
        "  except:\n",
        "    print('ERRO: Você deve digitar um NÚMERO positivo!')\n",
        "\n",
        "# Validação de entrada para n\n",
        "ok = False\n",
        "while not ok:\n",
        "  try:\n",
        "    n = float(input('\\nDigite um número positivo (N): '))\n",
        "    if n > 0:\n",
        "      ok = True\n",
        "    else:\n",
        "      print('ERRO: O número n deve ser positivo!')\n",
        "  except:\n",
        "    print('ERRO: Você deve digitar um NÚMERO positivo!')\n",
        "n = int(n)\n",
        "\n",
        "# Cálculo da série\n",
        "S = log(x)\n",
        "for i in range(1, n+1):\n",
        "  S += x**i/i\n",
        "\n",
        "# Saída de dados\n",
        "print(f'\\nO valor da série é {S:.3f}')"
      ],
      "metadata": {
        "id": "W8GqssGp2vNg"
      },
      "execution_count": null,
      "outputs": []
    },
    {
      "cell_type": "code",
      "source": [
        "# Solução alternativa com list comprehensions\n",
        "x, n = 5.8, 4\n",
        "S = sum([log(x)] + [x**i/i for i in range(1, n+1)])\n",
        "print(f'S = {S:.3f}')"
      ],
      "metadata": {
        "id": "OsMuCfn_GOB6"
      },
      "execution_count": null,
      "outputs": []
    },
    {
      "cell_type": "markdown",
      "source": [
        "Para ajudar na resolução do próximo exercício, vamos empregar a função `choice` do módulo `random`. Essa função escolhe (pseudo)aleatoriamente um elemento de uma lista à cada execução. Veja um exemplo de uso da função na célula a seguir. Execute-o algumas vezes!"
      ],
      "metadata": {
        "id": "o-Jj_zylXNnN"
      }
    },
    {
      "cell_type": "code",
      "source": [
        "from random import choice\n",
        "\n",
        "frutas = ['maçã', 'banana', 'cereja']\n",
        "for i in range(10):\n",
        "  print(f'{i+1}a escolha = {choice(frutas)}')"
      ],
      "metadata": {
        "id": "EBQUDoZIX_lf"
      },
      "execution_count": null,
      "outputs": []
    },
    {
      "cell_type": "markdown",
      "source": [
        "Também será útil empregar o método `count` das listas Python. O método retorna o número de ocorrências de determinado elemento em uma lista. Veja o exemplo a seguir."
      ],
      "metadata": {
        "id": "Aai71pygahp-"
      }
    },
    {
      "cell_type": "code",
      "source": [
        "lista_num = [3, 2, 3, 3, -1, 0, 3, 4, 5, 5, 5]\n",
        "print(f'O número 3 aparece na lista_num {lista_num.count(3)} vezes.')\n",
        "print(f'O número 0 aparece na lista_num {lista_num.count(0)} vezes.')\n",
        "print(f'O número 5 aparece na lista_num {lista_num.count(5)} vezes.')"
      ],
      "metadata": {
        "colab": {
          "base_uri": "https://localhost:8080/"
        },
        "id": "QCIfYUEobC4u",
        "outputId": "b303924d-f403-43f2-fb10-403b8a966e53"
      },
      "execution_count": null,
      "outputs": [
        {
          "output_type": "stream",
          "name": "stdout",
          "text": [
            "O número 3 aparece na lista_num 4 vezes.\n",
            "O número 0 aparece na lista_num 1 vezes.\n",
            "O número 5 aparece na lista_num 3 vezes.\n"
          ]
        }
      ]
    },
    {
      "cell_type": "markdown",
      "source": [
        "#**Exercício 03**\n",
        "\n",
        "Elabore um programa Python para gerenciar uma eleição. Os votos válidos são representados pelos números 1, 2 e 3, cada um correspondendo a um candidato. O voto em branco é representado pelo número 0 e o voto nulo, pelo número –1. O fluxograma deverá processar $N$ respostas da votação, calcular e exibir:\n",
        "\n",
        "**a)** o total de votos para cada candidato;\n",
        "\n",
        "**b)** o total de votos em branco;\n",
        "\n",
        "**c)** o total de votos nulos;\n",
        "\n",
        "**d)** a porcentagem de votos válidos do candidato vencedor.\n",
        "\n",
        "**Requisitos:**\n",
        "* Use uma estrutura de repetição em conjunto com a função `choice` para gerar uma lista com os $N$ votos.\n",
        "* Use o método `count` para totalizar os votos.\n"
      ],
      "metadata": {
        "id": "CtoqrTEm5RNR"
      }
    },
    {
      "cell_type": "code",
      "source": [
        "# Exercício 03\n",
        "from random import choice\n",
        "\n",
        "# Entrada do número de votos\n",
        "N = int(input('Digite o número de votos a serem processados: '))\n",
        "\n",
        "# Geração de votos\n",
        "escolhas = [-1, 0, 1, 2, 3]\n",
        "votos = [choice(escolhas) for _ in range(N)]\n",
        "\n",
        "# Contagem dos votos\n",
        "contagem = [votos.count(escolha) for escolha in escolhas]\n",
        "\n",
        "# Resultado da eleição\n",
        "print('\\n*** Resultado da apuração ***')\n",
        "votos_validos = contagem[2:]\n",
        "candidatos = escolhas[2:]\n",
        "for cand, num_votos in zip(candidatos, votos_validos):\n",
        "  print(f'Candidato {cand}: {num_votos} votos.')\n",
        "print(f'Votos nulos: {contagem[0]}')\n",
        "print(f'Votos brancos: {contagem[1]}')\n",
        "\n",
        "# Vencedor\n",
        "vencedor = votos_validos.index(max(votos_validos)) + 1\n",
        "porcentagem = max(votos_validos)/sum(votos_validos)*100\n",
        "print(f'\\nO candidato {vencedor} venceu a eleição com {porcentagem:.2f}% de votos válidos.')"
      ],
      "metadata": {
        "colab": {
          "base_uri": "https://localhost:8080/"
        },
        "id": "_Ekm8QpcXKMF",
        "outputId": "fa5ad4ba-f569-4549-d0f5-8f44d56e0cea"
      },
      "execution_count": null,
      "outputs": [
        {
          "output_type": "stream",
          "name": "stdout",
          "text": [
            "Digite o número de votos a serem processados: 3000\n",
            "*** Resultados Gerais ***\n",
            "O candidato 1 obteve 604 votos.\n",
            "O candidato 2 obteve 612 votos.\n",
            "O candidato 3 obteve 595 votos.\n",
            "Foram 614 votos nulos e 575 votos brancos.\n",
            "O candidato vencedor é o de número 2.\n",
            "O vencedor obteve 33.79% dos votos válidos.\n"
          ]
        }
      ]
    },
    {
      "cell_type": "markdown",
      "source": [
        "O próximo exercício vai usar o módulo `Turtle`. Para isso, instale-o executando a célula a seguir."
      ],
      "metadata": {
        "id": "rBgjlHNtk9JU"
      }
    },
    {
      "cell_type": "code",
      "source": [
        "!pip install ColabTurtlePlus\n",
        "from ColabTurtlePlus.Turtle import *"
      ],
      "metadata": {
        "id": "nj0iBrwLlD5d",
        "colab": {
          "base_uri": "https://localhost:8080/"
        },
        "outputId": "0c8d9b14-2c19-4aa8-9ca2-d8c738f12dd4"
      },
      "execution_count": null,
      "outputs": [
        {
          "output_type": "stream",
          "name": "stdout",
          "text": [
            "Collecting ColabTurtlePlus\n",
            "  Downloading ColabTurtlePlus-2.0.1-py3-none-any.whl.metadata (10 kB)\n",
            "Downloading ColabTurtlePlus-2.0.1-py3-none-any.whl (31 kB)\n",
            "Installing collected packages: ColabTurtlePlus\n",
            "Successfully installed ColabTurtlePlus-2.0.1\n",
            "Put clearscreen() as the first line in a cell (after the import command) to re-run turtle commands in the cell\n"
          ]
        }
      ]
    },
    {
      "cell_type": "markdown",
      "source": [
        "#**Exercício 04**\n",
        "\n",
        "Elabore um programa Python que faça com que Leonardo, Michelangelo, Donatelo e Rafael disputem um corrida! No início, as tartarugas devem se posicionar no extremo esquerdo da tela e então percorrer distâncias sorteadas aleatoriamente entre os inteiros 1 e 10. A tartaruga que chegar primeiro atingie o extremo direito da janela vence! Nesse instante, o programa deve encerrar os sorteios."
      ],
      "metadata": {
        "id": "n7c-z0Fokg2F"
      }
    },
    {
      "cell_type": "code",
      "source": [
        "from random import choice\n",
        "\n",
        "# Constantes\n",
        "LADO = 320            # Lado da \"janela\" (canvas)\n",
        "VELOCIDADE = 8        # Escala de 1 a 13\n",
        "\n",
        "# Criação do canvas\n",
        "clearscreen()             # Limpa a tela da execução anterior\n",
        "setup(2*LADO, LADO)       # Tamanho da janela\n",
        "bgcolor('lightgray')      # Cor de fundo da tela\n",
        "showborder()              # Mostra a borda\n",
        "\n",
        "# Criação da tartaruga Leonardo\n",
        "leo = Turtle()\n",
        "leo.speed(VELOCIDADE)\n",
        "leo.shape('turtle')\n",
        "leo.color('blue')\n",
        "leo.penup()\n",
        "leo.goto(-LADO, 3/8*LADO)\n",
        "\n",
        "# Criação da tartaruga Michelangelo\n",
        "mike = Turtle()\n",
        "mike.speed(VELOCIDADE)\n",
        "mike.shape('turtle')\n",
        "mike.color('orange')\n",
        "mike.penup()\n",
        "mike.goto(-LADO, 1/8*LADO)\n",
        "\n",
        "# Criação da tartaruga Donatelo\n",
        "donnie = Turtle()\n",
        "donnie.speed(VELOCIDADE)\n",
        "donnie.shape('turtle')\n",
        "donnie.color('purple')\n",
        "donnie.penup()\n",
        "donnie.goto(-LADO, -1/8*LADO)\n",
        "\n",
        "# Criação da tartaruga Rafael\n",
        "raf = Turtle()\n",
        "raf.speed(VELOCIDADE)\n",
        "raf.shape('turtle')\n",
        "raf.color('red')\n",
        "raf.penup()\n",
        "raf.goto(-LADO, -3/8*LADO)\n",
        "\n",
        "# Lista com a posição das tartarugas em cada instante\n",
        "# Índice 0 --> Leonardo\n",
        "# Índice 1 --> Michelangelo\n",
        "# Índice 2 --> Donatelo\n",
        "# Índice 3 --> Rafael\n",
        "posicoes = 4*[-LADO]\n",
        "\n",
        "# Corrida\n",
        "passos = list(range(1, 11))\n",
        "while not any([pos >=LADO for pos in posicoes]):\n",
        "  # Leonardo\n",
        "  passo_leo = choice(passos)\n",
        "  leo.forward(passo_leo)\n",
        "  posicoes[0] += passo_leo\n",
        "  # Michelangelo\n",
        "  passo_mike = choice(passos)\n",
        "  mike.forward(passo_mike)\n",
        "  posicoes[1] += passo_mike\n",
        "  # Donatelo\n",
        "  passo_donnie = choice(passos)\n",
        "  donnie.forward(passo_donnie)\n",
        "  posicoes[2] += passo_donnie\n",
        "  # Rafael\n",
        "  passo_raf = choice(passos)\n",
        "  raf.forward(passo_raf)\n",
        "  posicoes[3] += passo_raf"
      ],
      "metadata": {
        "colab": {
          "base_uri": "https://localhost:8080/",
          "height": 341
        },
        "id": "-qbkHq-NmOB0",
        "outputId": "e58af765-e25b-44c3-cfa6-2019adaf9b70"
      },
      "execution_count": null,
      "outputs": [
        {
          "output_type": "display_data",
          "data": {
            "text/plain": [
              "<IPython.core.display.HTML object>"
            ],
            "text/html": [
              "\n",
              "      <svg width=\"640\" height=\"320\">  \n",
              "        <rect width=\"100%\" height=\"100%\" style=\"fill:lightgray;stroke:gray;stroke-width:1\"/>\n",
              "        \n",
              "        \n",
              "        \n",
              "        \n",
              "        \n",
              "        <g id=\"turtle\" visibility=\"visible\" transform=\"rotate(90,640.0,40.0) translate(640.0, 40.0)\">\n",
              "<path style=\"stroke:blue;fill-rule:evenodd;fill:blue;fill-opacity:1;\" transform=\"skewX(0) scale(1,1)\" d=\"m 1.1536693,-18.56101 c -2.105469,1.167969 -3.203125,3.441407 -3.140625,6.5 l 0.011719,0.519532 -0.300782,-0.15625 c -1.308594,-0.671875 -2.828125,-0.824219 -4.378906,-0.429688 -1.9375,0.484375 -3.8906253,2.089844 -6.0117193,4.9257825 -1.332031,1.785156 -1.714843,2.644531 -1.351562,3.035156 l 0.113281,0.125 h 0.363281 c 0.71875,0 1.308594,-0.265625 4.6679693,-2.113282 1.199219,-0.660156 2.183594,-1.199218 2.191406,-1.199218 0.00781,0 -0.023437,0.089844 -0.074218,0.195312 -0.472657,1.058594 -1.046876,2.785156 -1.335938,4.042969 -1.054688,4.574219 -0.351562,8.453125 2.101562,11.582031 0.28125,0.355469 0.292969,0.253906 -0.097656,0.722656 -2.046875,2.4609375 -3.027344,4.8984375 -2.734375,6.8046875 0.050781,0.339844 0.042969,0.335938 0.679688,0.335938 2.023437,0 4.15625,-1.316407 6.21875,-3.835938 0.222656,-0.269531 0.191406,-0.261719 0.425781,-0.113281 0.730469,0.46875 2.460938,1.390625 2.613281,1.390625 0.160157,0 1.765625,-0.753906 2.652344,-1.246094 0.167969,-0.09375 0.308594,-0.164062 0.308594,-0.160156 0.066406,0.105468 0.761719,0.855468 1.085937,1.171875 1.613282,1.570312 3.339844,2.402343 5.3593747,2.570312 0.324219,0.02734 0.355469,0.0078 0.425781,-0.316406 0.375,-1.742187 -0.382812,-4.058594 -2.1445307,-6.5585935 l -0.320312,-0.457031 0.15625,-0.183594 c 3.2460927,-3.824218 3.4335927,-9.08593704 0.558593,-15.816406 l -0.050781,-0.125 1.7382807,0.859375 c 3.585938,1.773437 4.371094,2.097656 5.085938,2.097656 0.945312,0 0.75,-0.863281 -0.558594,-2.507812 C 11.458356,-11.838353 8.3333563,-13.268041 4.8607003,-11.721166 l -0.363281,0.164063 0.019531,-0.09375 c 0.121094,-0.550781 0.183594,-1.800781 0.121094,-2.378907 -0.203125,-1.867187 -1.035157,-3.199218 -2.695313,-4.308593 -0.523437,-0.351563 -0.546875,-0.355469 -0.789062,-0.222657\" />\n",
              "</g><g id=\"turtle\" visibility=\"visible\" transform=\"rotate(90,615.0,120.0) translate(615.0, 120.0)\">\n",
              "<path style=\"stroke:orange;fill-rule:evenodd;fill:orange;fill-opacity:1;\" transform=\"skewX(0) scale(1,1)\" d=\"m 1.1536693,-18.56101 c -2.105469,1.167969 -3.203125,3.441407 -3.140625,6.5 l 0.011719,0.519532 -0.300782,-0.15625 c -1.308594,-0.671875 -2.828125,-0.824219 -4.378906,-0.429688 -1.9375,0.484375 -3.8906253,2.089844 -6.0117193,4.9257825 -1.332031,1.785156 -1.714843,2.644531 -1.351562,3.035156 l 0.113281,0.125 h 0.363281 c 0.71875,0 1.308594,-0.265625 4.6679693,-2.113282 1.199219,-0.660156 2.183594,-1.199218 2.191406,-1.199218 0.00781,0 -0.023437,0.089844 -0.074218,0.195312 -0.472657,1.058594 -1.046876,2.785156 -1.335938,4.042969 -1.054688,4.574219 -0.351562,8.453125 2.101562,11.582031 0.28125,0.355469 0.292969,0.253906 -0.097656,0.722656 -2.046875,2.4609375 -3.027344,4.8984375 -2.734375,6.8046875 0.050781,0.339844 0.042969,0.335938 0.679688,0.335938 2.023437,0 4.15625,-1.316407 6.21875,-3.835938 0.222656,-0.269531 0.191406,-0.261719 0.425781,-0.113281 0.730469,0.46875 2.460938,1.390625 2.613281,1.390625 0.160157,0 1.765625,-0.753906 2.652344,-1.246094 0.167969,-0.09375 0.308594,-0.164062 0.308594,-0.160156 0.066406,0.105468 0.761719,0.855468 1.085937,1.171875 1.613282,1.570312 3.339844,2.402343 5.3593747,2.570312 0.324219,0.02734 0.355469,0.0078 0.425781,-0.316406 0.375,-1.742187 -0.382812,-4.058594 -2.1445307,-6.5585935 l -0.320312,-0.457031 0.15625,-0.183594 c 3.2460927,-3.824218 3.4335927,-9.08593704 0.558593,-15.816406 l -0.050781,-0.125 1.7382807,0.859375 c 3.585938,1.773437 4.371094,2.097656 5.085938,2.097656 0.945312,0 0.75,-0.863281 -0.558594,-2.507812 C 11.458356,-11.838353 8.3333563,-13.268041 4.8607003,-11.721166 l -0.363281,0.164063 0.019531,-0.09375 c 0.121094,-0.550781 0.183594,-1.800781 0.121094,-2.378907 -0.203125,-1.867187 -1.035157,-3.199218 -2.695313,-4.308593 -0.523437,-0.351563 -0.546875,-0.355469 -0.789062,-0.222657\" />\n",
              "</g><g id=\"turtle\" visibility=\"visible\" transform=\"rotate(90,627.0,200.0) translate(627.0, 200.0)\">\n",
              "<path style=\"stroke:purple;fill-rule:evenodd;fill:purple;fill-opacity:1;\" transform=\"skewX(0) scale(1,1)\" d=\"m 1.1536693,-18.56101 c -2.105469,1.167969 -3.203125,3.441407 -3.140625,6.5 l 0.011719,0.519532 -0.300782,-0.15625 c -1.308594,-0.671875 -2.828125,-0.824219 -4.378906,-0.429688 -1.9375,0.484375 -3.8906253,2.089844 -6.0117193,4.9257825 -1.332031,1.785156 -1.714843,2.644531 -1.351562,3.035156 l 0.113281,0.125 h 0.363281 c 0.71875,0 1.308594,-0.265625 4.6679693,-2.113282 1.199219,-0.660156 2.183594,-1.199218 2.191406,-1.199218 0.00781,0 -0.023437,0.089844 -0.074218,0.195312 -0.472657,1.058594 -1.046876,2.785156 -1.335938,4.042969 -1.054688,4.574219 -0.351562,8.453125 2.101562,11.582031 0.28125,0.355469 0.292969,0.253906 -0.097656,0.722656 -2.046875,2.4609375 -3.027344,4.8984375 -2.734375,6.8046875 0.050781,0.339844 0.042969,0.335938 0.679688,0.335938 2.023437,0 4.15625,-1.316407 6.21875,-3.835938 0.222656,-0.269531 0.191406,-0.261719 0.425781,-0.113281 0.730469,0.46875 2.460938,1.390625 2.613281,1.390625 0.160157,0 1.765625,-0.753906 2.652344,-1.246094 0.167969,-0.09375 0.308594,-0.164062 0.308594,-0.160156 0.066406,0.105468 0.761719,0.855468 1.085937,1.171875 1.613282,1.570312 3.339844,2.402343 5.3593747,2.570312 0.324219,0.02734 0.355469,0.0078 0.425781,-0.316406 0.375,-1.742187 -0.382812,-4.058594 -2.1445307,-6.5585935 l -0.320312,-0.457031 0.15625,-0.183594 c 3.2460927,-3.824218 3.4335927,-9.08593704 0.558593,-15.816406 l -0.050781,-0.125 1.7382807,0.859375 c 3.585938,1.773437 4.371094,2.097656 5.085938,2.097656 0.945312,0 0.75,-0.863281 -0.558594,-2.507812 C 11.458356,-11.838353 8.3333563,-13.268041 4.8607003,-11.721166 l -0.363281,0.164063 0.019531,-0.09375 c 0.121094,-0.550781 0.183594,-1.800781 0.121094,-2.378907 -0.203125,-1.867187 -1.035157,-3.199218 -2.695313,-4.308593 -0.523437,-0.351563 -0.546875,-0.355469 -0.789062,-0.222657\" />\n",
              "</g><g id=\"turtle\" visibility=\"visible\" transform=\"rotate(90,598.0,280.0) translate(598.0, 280.0)\">\n",
              "<path style=\"stroke:red;fill-rule:evenodd;fill:red;fill-opacity:1;\" transform=\"skewX(0) scale(1,1)\" d=\"m 1.1536693,-18.56101 c -2.105469,1.167969 -3.203125,3.441407 -3.140625,6.5 l 0.011719,0.519532 -0.300782,-0.15625 c -1.308594,-0.671875 -2.828125,-0.824219 -4.378906,-0.429688 -1.9375,0.484375 -3.8906253,2.089844 -6.0117193,4.9257825 -1.332031,1.785156 -1.714843,2.644531 -1.351562,3.035156 l 0.113281,0.125 h 0.363281 c 0.71875,0 1.308594,-0.265625 4.6679693,-2.113282 1.199219,-0.660156 2.183594,-1.199218 2.191406,-1.199218 0.00781,0 -0.023437,0.089844 -0.074218,0.195312 -0.472657,1.058594 -1.046876,2.785156 -1.335938,4.042969 -1.054688,4.574219 -0.351562,8.453125 2.101562,11.582031 0.28125,0.355469 0.292969,0.253906 -0.097656,0.722656 -2.046875,2.4609375 -3.027344,4.8984375 -2.734375,6.8046875 0.050781,0.339844 0.042969,0.335938 0.679688,0.335938 2.023437,0 4.15625,-1.316407 6.21875,-3.835938 0.222656,-0.269531 0.191406,-0.261719 0.425781,-0.113281 0.730469,0.46875 2.460938,1.390625 2.613281,1.390625 0.160157,0 1.765625,-0.753906 2.652344,-1.246094 0.167969,-0.09375 0.308594,-0.164062 0.308594,-0.160156 0.066406,0.105468 0.761719,0.855468 1.085937,1.171875 1.613282,1.570312 3.339844,2.402343 5.3593747,2.570312 0.324219,0.02734 0.355469,0.0078 0.425781,-0.316406 0.375,-1.742187 -0.382812,-4.058594 -2.1445307,-6.5585935 l -0.320312,-0.457031 0.15625,-0.183594 c 3.2460927,-3.824218 3.4335927,-9.08593704 0.558593,-15.816406 l -0.050781,-0.125 1.7382807,0.859375 c 3.585938,1.773437 4.371094,2.097656 5.085938,2.097656 0.945312,0 0.75,-0.863281 -0.558594,-2.507812 C 11.458356,-11.838353 8.3333563,-13.268041 4.8607003,-11.721166 l -0.363281,0.164063 0.019531,-0.09375 c 0.121094,-0.550781 0.183594,-1.800781 0.121094,-2.378907 -0.203125,-1.867187 -1.035157,-3.199218 -2.695313,-4.308593 -0.523437,-0.351563 -0.546875,-0.355469 -0.789062,-0.222657\" />\n",
              "</g>\n",
              "      </svg>\n",
              "    "
            ]
          },
          "metadata": {}
        }
      ]
    }
  ]
}